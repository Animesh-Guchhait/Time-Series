{
  "cells": [
    {
      "cell_type": "markdown",
      "metadata": {
        "id": "view-in-github",
        "colab_type": "text"
      },
      "source": [
        "<a href=\"https://colab.research.google.com/github/Animesh-Guchhait/Time-Series/blob/main/time_series.ipynb\" target=\"_parent\"><img src=\"https://colab.research.google.com/assets/colab-badge.svg\" alt=\"Open In Colab\"/></a>"
      ]
    },
    {
      "cell_type": "markdown",
      "metadata": {
        "id": "IAO0p_WJgxyQ"
      },
      "source": [
        "# TSLA stock prise prediction using ARMA and GARCH"
      ]
    },
    {
      "cell_type": "markdown",
      "metadata": {
        "id": "bGqnVgTkgxyc"
      },
      "source": [
        "In this assignment, stock prise data will be predicted using ARMA and GARCH models and their performence will be measured.\n",
        "\n",
        "Two procedures will be preformed:\n",
        "\n",
        "At very first, cleaning and processing will be performed on the data and log return column will be generated from stock price.Then we will split the data as train data and test data.Some descriptive ststistics will be performed on the train data to know some statistical features of the data.Then stationarity of log return will be checked on train data. Generally log return data are stationary.In case it is not, we will go for further transformation.\n",
        "\n",
        "After cleaning, processing and confirming the stationarity of the data, appropriate ARMA model will be fitted on it. Now we will get residual from that model on train data.Then we will perform the Ljung - Box test first on residual, and then on $residual^2$. If the null hypothesis is accepted for residual and is rejected for $residual^2$,we will go for further procedure.\n",
        "\n",
        "1. Procedure 1:\n",
        "Uaing above mentioned ARMA model,we will predict future returns and stock prises.Then appropriate GARCH model will be fitted to know future volatility of the returns and stock prises.Performance of the prediction will be measured on the stock prise using the test dataset.\n",
        "\n",
        "\n",
        "2. Procedure 2:\n",
        "We have already fitted ARMA model and have got residual from that model on train data. We will fit appropriate ARMA model on $residual^2$ and will predict future $residual^2$.We know that $\\epsilon_t=\\sigma_t a_t$, where $a_t$ comes from N(0,1). So, Now future $residual_t=sign(a_t)\\sqrt(residual_t^2)$. Our new modified predicted retrun $r_t^{modi}=r_t + residual_t$, where $r_t$ is predicted return from ARMA and from $r_t^{modi}$ we will get modified predicted price $y_t^{modi}$ also. So in this way we will get modified forcasts of stock prices.Performance of this procedure will be measured on test dataset.\n",
        "\n",
        "\n",
        "\n"
      ]
    },
    {
      "cell_type": "markdown",
      "metadata": {
        "id": "iyu7Pz2Kgxyh"
      },
      "source": [
        "Load some important libraries to use"
      ]
    },
    {
      "cell_type": "code",
      "execution_count": null,
      "metadata": {
        "id": "F1X2-Hepgxyi"
      },
      "outputs": [],
      "source": [
        "import numpy as np\n",
        "import pandas as pd\n",
        "import seaborn as sns\n",
        "import matplotlib.pyplot as plt\n",
        "from statsmodels.graphics.tsaplots import plot_acf,plot_pacf\n",
        "import statsmodels.api as sm\n",
        "import warnings\n",
        "warnings.filterwarnings('ignore')"
      ]
    },
    {
      "cell_type": "markdown",
      "metadata": {
        "id": "u7QrZtxcgxyk"
      },
      "source": [
        "# Loading and Processing Data\n",
        "* import the daily TSLA stock data( collected from Yahoo finance [here](https://finance.yahoo.com/quote/TSLA/history?period1=1483228800&period2=1638057600&interval=1d&filter=history&frequency=1d&includeAdjustedClose=true) )\n",
        "* preparing the data for further analysis"
      ]
    },
    {
      "cell_type": "code",
      "execution_count": null,
      "metadata": {
        "id": "nxGIEFHYgxyl"
      },
      "outputs": [],
      "source": [
        "data=pd.read_csv('TSLA.csv')"
      ]
    },
    {
      "cell_type": "code",
      "execution_count": null,
      "metadata": {
        "id": "32B-50ykgxym",
        "outputId": "f583fd31-fde0-4a08-e1c7-7bff6face00f"
      },
      "outputs": [
        {
          "data": {
            "text/html": [
              "<div>\n",
              "<style scoped>\n",
              "    .dataframe tbody tr th:only-of-type {\n",
              "        vertical-align: middle;\n",
              "    }\n",
              "\n",
              "    .dataframe tbody tr th {\n",
              "        vertical-align: top;\n",
              "    }\n",
              "\n",
              "    .dataframe thead th {\n",
              "        text-align: right;\n",
              "    }\n",
              "</style>\n",
              "<table border=\"1\" class=\"dataframe\">\n",
              "  <thead>\n",
              "    <tr style=\"text-align: right;\">\n",
              "      <th></th>\n",
              "      <th>Date</th>\n",
              "      <th>Open</th>\n",
              "      <th>High</th>\n",
              "      <th>Low</th>\n",
              "      <th>Close</th>\n",
              "      <th>Adj Close</th>\n",
              "      <th>Volume</th>\n",
              "    </tr>\n",
              "  </thead>\n",
              "  <tbody>\n",
              "    <tr>\n",
              "      <th>0</th>\n",
              "      <td>2017-01-03</td>\n",
              "      <td>42.972000</td>\n",
              "      <td>44.066002</td>\n",
              "      <td>42.192001</td>\n",
              "      <td>43.397999</td>\n",
              "      <td>43.397999</td>\n",
              "      <td>29616500</td>\n",
              "    </tr>\n",
              "    <tr>\n",
              "      <th>1</th>\n",
              "      <td>2017-01-04</td>\n",
              "      <td>42.950001</td>\n",
              "      <td>45.599998</td>\n",
              "      <td>42.862000</td>\n",
              "      <td>45.397999</td>\n",
              "      <td>45.397999</td>\n",
              "      <td>56067500</td>\n",
              "    </tr>\n",
              "    <tr>\n",
              "      <th>2</th>\n",
              "      <td>2017-01-05</td>\n",
              "      <td>45.284000</td>\n",
              "      <td>45.495998</td>\n",
              "      <td>44.389999</td>\n",
              "      <td>45.349998</td>\n",
              "      <td>45.349998</td>\n",
              "      <td>29558500</td>\n",
              "    </tr>\n",
              "    <tr>\n",
              "      <th>3</th>\n",
              "      <td>2017-01-06</td>\n",
              "      <td>45.386002</td>\n",
              "      <td>46.062000</td>\n",
              "      <td>45.090000</td>\n",
              "      <td>45.801998</td>\n",
              "      <td>45.801998</td>\n",
              "      <td>27639500</td>\n",
              "    </tr>\n",
              "    <tr>\n",
              "      <th>4</th>\n",
              "      <td>2017-01-09</td>\n",
              "      <td>45.793999</td>\n",
              "      <td>46.383999</td>\n",
              "      <td>45.599998</td>\n",
              "      <td>46.256001</td>\n",
              "      <td>46.256001</td>\n",
              "      <td>19897500</td>\n",
              "    </tr>\n",
              "    <tr>\n",
              "      <th>...</th>\n",
              "      <td>...</td>\n",
              "      <td>...</td>\n",
              "      <td>...</td>\n",
              "      <td>...</td>\n",
              "      <td>...</td>\n",
              "      <td>...</td>\n",
              "      <td>...</td>\n",
              "    </tr>\n",
              "    <tr>\n",
              "      <th>1230</th>\n",
              "      <td>2021-11-19</td>\n",
              "      <td>1098.869995</td>\n",
              "      <td>1138.719971</td>\n",
              "      <td>1092.699951</td>\n",
              "      <td>1137.060059</td>\n",
              "      <td>1137.060059</td>\n",
              "      <td>21168000</td>\n",
              "    </tr>\n",
              "    <tr>\n",
              "      <th>1231</th>\n",
              "      <td>2021-11-22</td>\n",
              "      <td>1162.329956</td>\n",
              "      <td>1201.949951</td>\n",
              "      <td>1132.430054</td>\n",
              "      <td>1156.869995</td>\n",
              "      <td>1156.869995</td>\n",
              "      <td>33072500</td>\n",
              "    </tr>\n",
              "    <tr>\n",
              "      <th>1232</th>\n",
              "      <td>2021-11-23</td>\n",
              "      <td>1167.510010</td>\n",
              "      <td>1180.500000</td>\n",
              "      <td>1062.699951</td>\n",
              "      <td>1109.030029</td>\n",
              "      <td>1109.030029</td>\n",
              "      <td>36171700</td>\n",
              "    </tr>\n",
              "    <tr>\n",
              "      <th>1233</th>\n",
              "      <td>2021-11-24</td>\n",
              "      <td>1080.390015</td>\n",
              "      <td>1132.770020</td>\n",
              "      <td>1062.000000</td>\n",
              "      <td>1116.000000</td>\n",
              "      <td>1116.000000</td>\n",
              "      <td>22560200</td>\n",
              "    </tr>\n",
              "    <tr>\n",
              "      <th>1234</th>\n",
              "      <td>2021-11-26</td>\n",
              "      <td>1099.469971</td>\n",
              "      <td>1108.780029</td>\n",
              "      <td>1081.000000</td>\n",
              "      <td>1081.920044</td>\n",
              "      <td>1081.920044</td>\n",
              "      <td>11680900</td>\n",
              "    </tr>\n",
              "  </tbody>\n",
              "</table>\n",
              "<p>1235 rows × 7 columns</p>\n",
              "</div>"
            ],
            "text/plain": [
              "            Date         Open         High          Low        Close  \\\n",
              "0     2017-01-03    42.972000    44.066002    42.192001    43.397999   \n",
              "1     2017-01-04    42.950001    45.599998    42.862000    45.397999   \n",
              "2     2017-01-05    45.284000    45.495998    44.389999    45.349998   \n",
              "3     2017-01-06    45.386002    46.062000    45.090000    45.801998   \n",
              "4     2017-01-09    45.793999    46.383999    45.599998    46.256001   \n",
              "...          ...          ...          ...          ...          ...   \n",
              "1230  2021-11-19  1098.869995  1138.719971  1092.699951  1137.060059   \n",
              "1231  2021-11-22  1162.329956  1201.949951  1132.430054  1156.869995   \n",
              "1232  2021-11-23  1167.510010  1180.500000  1062.699951  1109.030029   \n",
              "1233  2021-11-24  1080.390015  1132.770020  1062.000000  1116.000000   \n",
              "1234  2021-11-26  1099.469971  1108.780029  1081.000000  1081.920044   \n",
              "\n",
              "        Adj Close    Volume  \n",
              "0       43.397999  29616500  \n",
              "1       45.397999  56067500  \n",
              "2       45.349998  29558500  \n",
              "3       45.801998  27639500  \n",
              "4       46.256001  19897500  \n",
              "...           ...       ...  \n",
              "1230  1137.060059  21168000  \n",
              "1231  1156.869995  33072500  \n",
              "1232  1109.030029  36171700  \n",
              "1233  1116.000000  22560200  \n",
              "1234  1081.920044  11680900  \n",
              "\n",
              "[1235 rows x 7 columns]"
            ]
          },
          "execution_count": 101,
          "metadata": {},
          "output_type": "execute_result"
        }
      ],
      "source": [
        "data"
      ]
    },
    {
      "cell_type": "markdown",
      "metadata": {
        "id": "bDcJFadxgxyo"
      },
      "source": [
        "This TSLA daily stock price data has 1235 days data and it has open, high,low, close, Adj close prices for the stock. We will consider only 'close price' for our study."
      ]
    },
    {
      "cell_type": "code",
      "execution_count": null,
      "metadata": {
        "id": "Fksi1ycggxyq"
      },
      "outputs": [],
      "source": [
        "data=data[['Date','Close']]"
      ]
    },
    {
      "cell_type": "code",
      "execution_count": null,
      "metadata": {
        "id": "_iL2AHxigxyq"
      },
      "outputs": [],
      "source": [
        "data.rename(columns={'Close':'Price'},inplace=True)"
      ]
    },
    {
      "cell_type": "code",
      "execution_count": null,
      "metadata": {
        "id": "MNfAfrOngxyr"
      },
      "outputs": [],
      "source": [
        "data['Date']=pd.to_datetime(data['Date'], infer_datetime_format='%d-%m-%y')"
      ]
    },
    {
      "cell_type": "code",
      "execution_count": null,
      "metadata": {
        "id": "LtEAZkX3gxyt",
        "outputId": "ab5a34e5-893e-41f5-bf2f-ef7f85140e86"
      },
      "outputs": [
        {
          "data": {
            "text/html": [
              "<div>\n",
              "<style scoped>\n",
              "    .dataframe tbody tr th:only-of-type {\n",
              "        vertical-align: middle;\n",
              "    }\n",
              "\n",
              "    .dataframe tbody tr th {\n",
              "        vertical-align: top;\n",
              "    }\n",
              "\n",
              "    .dataframe thead th {\n",
              "        text-align: right;\n",
              "    }\n",
              "</style>\n",
              "<table border=\"1\" class=\"dataframe\">\n",
              "  <thead>\n",
              "    <tr style=\"text-align: right;\">\n",
              "      <th></th>\n",
              "      <th>Date</th>\n",
              "      <th>Price</th>\n",
              "    </tr>\n",
              "  </thead>\n",
              "  <tbody>\n",
              "    <tr>\n",
              "      <th>0</th>\n",
              "      <td>2017-01-03</td>\n",
              "      <td>43.397999</td>\n",
              "    </tr>\n",
              "    <tr>\n",
              "      <th>1</th>\n",
              "      <td>2017-01-04</td>\n",
              "      <td>45.397999</td>\n",
              "    </tr>\n",
              "    <tr>\n",
              "      <th>2</th>\n",
              "      <td>2017-01-05</td>\n",
              "      <td>45.349998</td>\n",
              "    </tr>\n",
              "    <tr>\n",
              "      <th>3</th>\n",
              "      <td>2017-01-06</td>\n",
              "      <td>45.801998</td>\n",
              "    </tr>\n",
              "    <tr>\n",
              "      <th>4</th>\n",
              "      <td>2017-01-09</td>\n",
              "      <td>46.256001</td>\n",
              "    </tr>\n",
              "  </tbody>\n",
              "</table>\n",
              "</div>"
            ],
            "text/plain": [
              "        Date      Price\n",
              "0 2017-01-03  43.397999\n",
              "1 2017-01-04  45.397999\n",
              "2 2017-01-05  45.349998\n",
              "3 2017-01-06  45.801998\n",
              "4 2017-01-09  46.256001"
            ]
          },
          "execution_count": 107,
          "metadata": {},
          "output_type": "execute_result"
        }
      ],
      "source": [
        "data.head(5)"
      ]
    },
    {
      "cell_type": "markdown",
      "metadata": {
        "id": "jeltlPuCgxyu"
      },
      "source": [
        "Now this data set has only two column, Date and Price. Let see if this data has any missing value or not."
      ]
    },
    {
      "cell_type": "code",
      "execution_count": null,
      "metadata": {
        "id": "dDAvxSzFgxyw",
        "outputId": "24cfa2c2-10fd-4fd1-e8c5-d34b7370f541"
      },
      "outputs": [
        {
          "name": "stdout",
          "output_type": "stream",
          "text": [
            "<class 'pandas.core.frame.DataFrame'>\n",
            "RangeIndex: 1235 entries, 0 to 1234\n",
            "Data columns (total 2 columns):\n",
            " #   Column  Non-Null Count  Dtype         \n",
            "---  ------  --------------  -----         \n",
            " 0   Date    1235 non-null   datetime64[ns]\n",
            " 1   Price   1235 non-null   float64       \n",
            "dtypes: datetime64[ns](1), float64(1)\n",
            "memory usage: 19.4 KB\n"
          ]
        }
      ],
      "source": [
        "data.info()"
      ]
    },
    {
      "cell_type": "markdown",
      "metadata": {
        "id": "hbeFICdjgxyx"
      },
      "source": [
        "From the above information,we can see that dataset has no missing values, So no need of interpolation.Now we will create the rate column for log rate of return using the formula $ln(\\frac {price(i)}{price(i-1)})$"
      ]
    },
    {
      "cell_type": "code",
      "execution_count": null,
      "metadata": {
        "id": "qVL3u1QKgxyy"
      },
      "outputs": [],
      "source": [
        "import math\n",
        "data['rate']=0\n",
        "for i in range(1,len(data['rate'])):\n",
        "    data.loc[i,'rate']=math.log(data.loc[i,'Price']/data.loc[i-1,'Price'])"
      ]
    },
    {
      "cell_type": "code",
      "execution_count": null,
      "metadata": {
        "id": "c34SkfC7gxyz"
      },
      "outputs": [],
      "source": [
        "data=data.loc[1:]"
      ]
    },
    {
      "cell_type": "code",
      "execution_count": null,
      "metadata": {
        "id": "7rfC_P3Sgxy0",
        "outputId": "06757018-16e5-4ef0-bc83-82870f58d73c"
      },
      "outputs": [
        {
          "data": {
            "text/html": [
              "<div>\n",
              "<style scoped>\n",
              "    .dataframe tbody tr th:only-of-type {\n",
              "        vertical-align: middle;\n",
              "    }\n",
              "\n",
              "    .dataframe tbody tr th {\n",
              "        vertical-align: top;\n",
              "    }\n",
              "\n",
              "    .dataframe thead th {\n",
              "        text-align: right;\n",
              "    }\n",
              "</style>\n",
              "<table border=\"1\" class=\"dataframe\">\n",
              "  <thead>\n",
              "    <tr style=\"text-align: right;\">\n",
              "      <th></th>\n",
              "      <th>Date</th>\n",
              "      <th>Price</th>\n",
              "      <th>rate</th>\n",
              "    </tr>\n",
              "  </thead>\n",
              "  <tbody>\n",
              "    <tr>\n",
              "      <th>1</th>\n",
              "      <td>2017-01-04</td>\n",
              "      <td>45.397999</td>\n",
              "      <td>0.045055</td>\n",
              "    </tr>\n",
              "    <tr>\n",
              "      <th>2</th>\n",
              "      <td>2017-01-05</td>\n",
              "      <td>45.349998</td>\n",
              "      <td>-0.001058</td>\n",
              "    </tr>\n",
              "    <tr>\n",
              "      <th>3</th>\n",
              "      <td>2017-01-06</td>\n",
              "      <td>45.801998</td>\n",
              "      <td>0.009918</td>\n",
              "    </tr>\n",
              "    <tr>\n",
              "      <th>4</th>\n",
              "      <td>2017-01-09</td>\n",
              "      <td>46.256001</td>\n",
              "      <td>0.009863</td>\n",
              "    </tr>\n",
              "  </tbody>\n",
              "</table>\n",
              "</div>"
            ],
            "text/plain": [
              "        Date      Price      rate\n",
              "1 2017-01-04  45.397999  0.045055\n",
              "2 2017-01-05  45.349998 -0.001058\n",
              "3 2017-01-06  45.801998  0.009918\n",
              "4 2017-01-09  46.256001  0.009863"
            ]
          },
          "execution_count": 112,
          "metadata": {},
          "output_type": "execute_result"
        }
      ],
      "source": [
        "data.head(4) # Printing first 4 columns"
      ]
    },
    {
      "cell_type": "markdown",
      "metadata": {
        "id": "1DTr9uDYgxy0"
      },
      "source": [
        "Now we have Date , Price and rate as columns in our data set"
      ]
    },
    {
      "cell_type": "code",
      "execution_count": null,
      "metadata": {
        "id": "B6fA2Wpjgxy1",
        "outputId": "6fe03929-0eae-40dd-9cf5-640cee664f25"
      },
      "outputs": [
        {
          "data": {
            "image/png": "[encoded data removed]",
            "text/plain": [
              "<Figure size 432x288 with 1 Axes>"
            ]
          },
          "metadata": {
            "needs_background": "light"
          },
          "output_type": "display_data"
        }
      ],
      "source": [
        "plt.plot(data['Date'],data['Price'])\n",
        "plt.xlabel('Date')\n",
        "plt.ylabel('Price')\n",
        "plt.title(\"Stock Price Plot\",fontsize=15)\n",
        "plt.show()"
      ]
    },
    {
      "cell_type": "markdown",
      "metadata": {
        "id": "YCS91-NSgxy1"
      },
      "source": [
        "Now we will split the data Set into train and test data.Test data will contain last 7 observations and train data will contain rest."
      ]
    },
    {
      "cell_type": "code",
      "execution_count": null,
      "metadata": {
        "id": "-5VRIUOigxy2"
      },
      "outputs": [],
      "source": [
        "data_test=data.loc[1228:]\n",
        "data1=data.loc[:1227] # data1 is for train data"
      ]
    },
    {
      "cell_type": "code",
      "execution_count": null,
      "metadata": {
        "id": "SWf-Y0U1gxy2",
        "outputId": "c0fd5c1e-d815-4050-e9c2-b3fd5823b5ec"
      },
      "outputs": [
        {
          "data": {
            "text/html": [
              "<div>\n",
              "<style scoped>\n",
              "    .dataframe tbody tr th:only-of-type {\n",
              "        vertical-align: middle;\n",
              "    }\n",
              "\n",
              "    .dataframe tbody tr th {\n",
              "        vertical-align: top;\n",
              "    }\n",
              "\n",
              "    .dataframe thead th {\n",
              "        text-align: right;\n",
              "    }\n",
              "</style>\n",
              "<table border=\"1\" class=\"dataframe\">\n",
              "  <thead>\n",
              "    <tr style=\"text-align: right;\">\n",
              "      <th></th>\n",
              "      <th>Date</th>\n",
              "      <th>Price</th>\n",
              "      <th>rate</th>\n",
              "    </tr>\n",
              "  </thead>\n",
              "  <tbody>\n",
              "    <tr>\n",
              "      <th>1228</th>\n",
              "      <td>2021-11-17</td>\n",
              "      <td>1089.010010</td>\n",
              "      <td>0.031984</td>\n",
              "    </tr>\n",
              "    <tr>\n",
              "      <th>1229</th>\n",
              "      <td>2021-11-18</td>\n",
              "      <td>1096.380005</td>\n",
              "      <td>0.006745</td>\n",
              "    </tr>\n",
              "    <tr>\n",
              "      <th>1230</th>\n",
              "      <td>2021-11-19</td>\n",
              "      <td>1137.060059</td>\n",
              "      <td>0.036432</td>\n",
              "    </tr>\n",
              "    <tr>\n",
              "      <th>1231</th>\n",
              "      <td>2021-11-22</td>\n",
              "      <td>1156.869995</td>\n",
              "      <td>0.017272</td>\n",
              "    </tr>\n",
              "    <tr>\n",
              "      <th>1232</th>\n",
              "      <td>2021-11-23</td>\n",
              "      <td>1109.030029</td>\n",
              "      <td>-0.042232</td>\n",
              "    </tr>\n",
              "    <tr>\n",
              "      <th>1233</th>\n",
              "      <td>2021-11-24</td>\n",
              "      <td>1116.000000</td>\n",
              "      <td>0.006265</td>\n",
              "    </tr>\n",
              "    <tr>\n",
              "      <th>1234</th>\n",
              "      <td>2021-11-26</td>\n",
              "      <td>1081.920044</td>\n",
              "      <td>-0.031014</td>\n",
              "    </tr>\n",
              "  </tbody>\n",
              "</table>\n",
              "</div>"
            ],
            "text/plain": [
              "           Date        Price      rate\n",
              "1228 2021-11-17  1089.010010  0.031984\n",
              "1229 2021-11-18  1096.380005  0.006745\n",
              "1230 2021-11-19  1137.060059  0.036432\n",
              "1231 2021-11-22  1156.869995  0.017272\n",
              "1232 2021-11-23  1109.030029 -0.042232\n",
              "1233 2021-11-24  1116.000000  0.006265\n",
              "1234 2021-11-26  1081.920044 -0.031014"
            ]
          },
          "execution_count": 115,
          "metadata": {},
          "output_type": "execute_result"
        }
      ],
      "source": [
        "data_test"
      ]
    },
    {
      "cell_type": "markdown",
      "metadata": {
        "id": "QZgyz2ABgxy3"
      },
      "source": [
        "now data1 is our train data and data_test is test data which is showed above."
      ]
    },
    {
      "cell_type": "code",
      "execution_count": null,
      "metadata": {
        "id": "AZv0mcvJgxy3",
        "outputId": "72343395-7264-43f6-ccdb-de98f5a453bf"
      },
      "outputs": [
        {
          "data": {
            "image/png": "[encoded data removed]",
            "text/plain": [
              "<Figure size 432x288 with 1 Axes>"
            ]
          },
          "metadata": {
            "needs_background": "light"
          },
          "output_type": "display_data"
        }
      ],
      "source": [
        "plt.plot(data1['Date'],data1['rate'])\n",
        "plt.xlabel('Date')\n",
        "plt.ylabel('Rate')\n",
        "plt.title(\"Daily return Plot\",fontsize=15)\n",
        "plt.show()"
      ]
    },
    {
      "cell_type": "markdown",
      "metadata": {
        "id": "suNrPdNxgxy3"
      },
      "source": [
        "Now some descriptive statistics of our train data is shown below."
      ]
    },
    {
      "cell_type": "code",
      "execution_count": null,
      "metadata": {
        "id": "PuACCrKBgxy4",
        "outputId": "a136b3b1-37b6-4e3c-a053-5ba45ccd62a9"
      },
      "outputs": [
        {
          "data": {
            "text/plain": [
              "count    1227.000000\n",
              "mean        0.002600\n",
              "std         0.037958\n",
              "min        -0.236518\n",
              "25%        -0.014837\n",
              "50%         0.001661\n",
              "75%         0.019577\n",
              "max         0.181445\n",
              "Name: rate, dtype: float64"
            ]
          },
          "execution_count": 18,
          "metadata": {},
          "output_type": "execute_result"
        }
      ],
      "source": [
        "data1['rate'].describe()"
      ]
    },
    {
      "cell_type": "code",
      "execution_count": null,
      "metadata": {
        "id": "aiYMuf4vgxy4",
        "outputId": "73b7e3a4-5b8b-432e-d76b-c2cb1429a2a2"
      },
      "outputs": [
        {
          "data": {
            "text/plain": [
              "5.5442800886827825"
            ]
          },
          "execution_count": 19,
          "metadata": {},
          "output_type": "execute_result"
        }
      ],
      "source": [
        "kurt = data1['rate'].kurt()\n",
        "kurt"
      ]
    },
    {
      "cell_type": "code",
      "execution_count": null,
      "metadata": {
        "id": "tdNB99b0gxy5",
        "outputId": "458fe355-49f4-4d50-8c19-2a2919f04c83"
      },
      "outputs": [
        {
          "data": {
            "text/plain": [
              "-0.13582013604792614"
            ]
          },
          "execution_count": 20,
          "metadata": {},
          "output_type": "execute_result"
        }
      ],
      "source": [
        "skew = data1['rate'].skew()\n",
        "skew"
      ]
    },
    {
      "cell_type": "code",
      "execution_count": null,
      "metadata": {
        "id": "ynLRKQ4-gxy5",
        "outputId": "1b2ef205-14b5-4fdf-9ead-623afa36c623"
      },
      "outputs": [
        {
          "data": {
            "image/png": "[encoded data removed]",
            "text/plain": [
              "<Figure size 432x288 with 1 Axes>"
            ]
          },
          "metadata": {
            "needs_background": "light"
          },
          "output_type": "display_data"
        }
      ],
      "source": [
        "plt.hist(data1['rate'])\n",
        "plt.xlabel('rate')\n",
        "plt.ylabel('count')\n",
        "plt.title(\"Histogram for rate\",fontsize=15)\n",
        "plt.show()"
      ]
    },
    {
      "cell_type": "markdown",
      "metadata": {
        "id": "lfUxCsnagxy5"
      },
      "source": [
        "# STEP2\n",
        "* Checking stationarity of data\n",
        "    using\n",
        "    1. ADF test\n",
        "    2. KPSS test\n",
        "    3. PP test"
      ]
    },
    {
      "cell_type": "code",
      "execution_count": null,
      "metadata": {
        "id": "dVvWKmDvgxy6"
      },
      "outputs": [],
      "source": [
        "from statsmodels.tsa.stattools import adfuller, kpss"
      ]
    },
    {
      "cell_type": "code",
      "execution_count": null,
      "metadata": {
        "id": "g6L4ZdKYgxy6",
        "outputId": "8b8b77c1-f3af-4194-d54c-d3923402ed03"
      },
      "outputs": [
        {
          "name": "stdout",
          "output_type": "stream",
          "text": [
            "ADF Statistic: -18.727302081683586\n",
            "p-value: 2.031497235719926e-30\n",
            "Critial Values:\n",
            "   1%, -3.4357038129673962\n",
            "Critial Values:\n",
            "   5%, -2.8639042041471887\n",
            "Critial Values:\n",
            "   10%, -2.5680287376916997\n"
          ]
        }
      ],
      "source": [
        "# 1. ADF Test\n",
        "result = adfuller(data1.rate.values, autolag='AIC')\n",
        "print(f'ADF Statistic: {result[0]}')\n",
        "print(f'p-value: {result[1]}')\n",
        "for key, value in result[4].items():\n",
        "    print('Critial Values:')\n",
        "    print(f'   {key}, {value}')"
      ]
    },
    {
      "cell_type": "code",
      "execution_count": null,
      "metadata": {
        "id": "6w89O2ocgxy6",
        "outputId": "6d133a3d-2ed8-41b1-bd61-e17b145df17d"
      },
      "outputs": [
        {
          "name": "stdout",
          "output_type": "stream",
          "text": [
            "\n",
            "KPSS Statistic: 0.334995\n",
            "p-value: 0.100000\n",
            "Critial Values:\n",
            "   10%, 0.347\n",
            "Critial Values:\n",
            "   5%, 0.463\n",
            "Critial Values:\n",
            "   2.5%, 0.574\n",
            "Critial Values:\n",
            "   1%, 0.739\n"
          ]
        }
      ],
      "source": [
        "# 2. KPSS Test\n",
        "result = kpss(data1.rate.values, regression='c')\n",
        "print('\\nKPSS Statistic: %f' % result[0])\n",
        "print('p-value: %f' % result[1])\n",
        "for key, value in result[3].items():\n",
        "    print('Critial Values:')\n",
        "    print(f'   {key}, {value}')"
      ]
    },
    {
      "cell_type": "code",
      "execution_count": null,
      "metadata": {
        "id": "Fdffe0yrgxy7",
        "outputId": "1e08c5b2-b732-4894-f3d0-c4451f8a4f43"
      },
      "outputs": [
        {
          "name": "stdout",
          "output_type": "stream",
          "text": [
            "stat : -35.6366\n",
            "pvalue :0.0000\n"
          ]
        }
      ],
      "source": [
        "# 3. PP test\n",
        "#!pip install arch\n",
        "import arch.unitroot as at\n",
        "pp=at.PhillipsPerron(data['rate'])\n",
        "print(\"stat : {0:0.4f}\".format(pp.stat))\n",
        "print(\"pvalue :{0:0.4f}\".format(pp.pvalue))"
      ]
    },
    {
      "cell_type": "markdown",
      "metadata": {
        "id": "pTRy0uQEgxy7"
      },
      "source": [
        "The data1['rate'], train dataset is stationary, it is clear from above tests ADF test, KPSS test and PP test."
      ]
    },
    {
      "cell_type": "markdown",
      "metadata": {
        "id": "Y5EiyOhdgxy8"
      },
      "source": [
        "# ARMA model\n",
        "Find appropriate p and q "
      ]
    },
    {
      "cell_type": "code",
      "execution_count": null,
      "metadata": {
        "id": "Vd7Q5r9xgxy8",
        "outputId": "08096bb7-d82c-42b2-f66e-86ffd4bf6271"
      },
      "outputs": [
        {
          "data": {
            "image/png": "[encoded data removed]",
            "text/plain": [
              "<Figure size 864x576 with 2 Axes>"
            ]
          },
          "metadata": {
            "needs_background": "light"
          },
          "output_type": "display_data"
        }
      ],
      "source": [
        "\n",
        "fig = plt.figure(figsize=(12,8))\n",
        "ax1 = fig.add_subplot(211)\n",
        "fig = sm.graphics.tsa.plot_acf(data1['rate'],lags=40,ax=ax1)\n",
        "ax2 = fig.add_subplot(212)\n",
        "fig = sm.graphics.tsa.plot_pacf(data1['rate'],lags=40,ax=ax2)"
      ]
    },
    {
      "cell_type": "markdown",
      "metadata": {
        "id": "dfVDdnKcgxy8"
      },
      "source": [
        "From above Autocorrelation and partial autocorrelation plot, we can guess that p=q=0. lets check AIC and BIC of some models with diffrent values of p and q."
      ]
    },
    {
      "cell_type": "code",
      "execution_count": null,
      "metadata": {
        "id": "tkJHFEsigxy8"
      },
      "outputs": [],
      "source": [
        "from pmdarima.arima import auto_arima\n",
        "from statsmodels.tsa.arima.model import ARIMA"
      ]
    },
    {
      "cell_type": "code",
      "execution_count": null,
      "metadata": {
        "scrolled": true,
        "id": "944Y7DTygxy9",
        "outputId": "5f920ed2-1324-45db-a139-a73cecd6316a"
      },
      "outputs": [
        {
          "name": "stdout",
          "output_type": "stream",
          "text": [
            "p= 0 q= 0   aic -4542.64   bic -4532.41\n",
            "p= 0 q= 1   aic -4540.9   bic -4525.57\n",
            "p= 0 q= 2   aic -4541.36   bic -4520.91\n",
            "p= 0 q= 3   aic -4542.99   bic -4517.43\n",
            "p= 1 q= 0   aic -4540.94   bic -4525.6\n",
            "p= 1 q= 1   aic -4538.97   bic -4518.52\n",
            "p= 1 q= 2   aic -4540.69   bic -4515.13\n",
            "p= 1 q= 3   aic -4541.25   bic -4510.58\n",
            "p= 2 q= 0   aic -4541.08   bic -4520.63\n",
            "p= 2 q= 1   aic -4539.13   bic -4513.56\n",
            "p= 2 q= 2   aic -4544.53   bic -4513.86\n",
            "p= 2 q= 3   aic -4542.56   bic -4506.77\n",
            "p= 3 q= 0   aic -4542.28   bic -4516.72\n",
            "p= 3 q= 1   aic -4540.26   bic -4509.58\n",
            "p= 3 q= 2   aic -4541.57   bic -4505.78\n",
            "p= 3 q= 3   aic -4540.64   bic -4499.74\n"
          ]
        }
      ],
      "source": [
        "for i in range(4):\n",
        "    for j in range(4):\n",
        "        model=ARIMA(data1['rate'],order=(i,0,j))\n",
        "        model=model.fit()\n",
        "        print('p=',i,'q=',j,'  aic',round(model.aic,2), '  bic', round(model.bic,2))"
      ]
    },
    {
      "cell_type": "markdown",
      "metadata": {
        "id": "mYE1gOO2gxy9"
      },
      "source": [
        "From above AIC and BIC list, we can say that p=q=0 will fit better."
      ]
    },
    {
      "cell_type": "markdown",
      "metadata": {
        "id": "ZUmrl-Cqgxy9"
      },
      "source": [
        "# Using p=q=0"
      ]
    },
    {
      "cell_type": "code",
      "execution_count": null,
      "metadata": {
        "id": "xPcFs80dgxy9",
        "outputId": "456eca5b-e8cb-4a28-eccf-6d497b1d419f"
      },
      "outputs": [
        {
          "name": "stdout",
          "output_type": "stream",
          "text": [
            "                               SARIMAX Results                                \n",
            "==============================================================================\n",
            "Dep. Variable:                   rate   No. Observations:                 1227\n",
            "Model:                          ARIMA   Log Likelihood                2273.318\n",
            "Date:                Sun, 28 Nov 2021   AIC                          -4542.636\n",
            "Time:                        21:19:55   BIC                          -4532.412\n",
            "Sample:                             0   HQIC                         -4538.789\n",
            "                               - 1227                                         \n",
            "Covariance Type:                  opg                                         \n",
            "==============================================================================\n",
            "                 coef    std err          z      P>|z|      [0.025      0.975]\n",
            "------------------------------------------------------------------------------\n",
            "const          0.0026      0.001      2.394      0.017       0.000       0.005\n",
            "sigma2         0.0014      3e-05     47.972      0.000       0.001       0.001\n",
            "===================================================================================\n",
            "Ljung-Box (L1) (Q):                   0.30   Jarque-Bera (JB):              1559.77\n",
            "Prob(Q):                              0.58   Prob(JB):                         0.00\n",
            "Heteroskedasticity (H):               2.36   Skew:                            -0.14\n",
            "Prob(H) (two-sided):                  0.00   Kurtosis:                         8.52\n",
            "===================================================================================\n",
            "\n",
            "Warnings:\n",
            "[1] Covariance matrix calculated using the outer product of gradients (complex-step).\n"
          ]
        }
      ],
      "source": [
        "# p=0,q=0\n",
        "\n",
        "model=ARIMA(data1['rate'],order=(0,0,0))\n",
        "model_arima=model.fit()\n",
        "print(model_arima.summary())"
      ]
    },
    {
      "cell_type": "code",
      "execution_count": null,
      "metadata": {
        "id": "M9pAvwAogxy9"
      },
      "outputs": [],
      "source": [
        "residuals = pd.DataFrame(model_arima.resid)"
      ]
    },
    {
      "cell_type": "code",
      "execution_count": null,
      "metadata": {
        "id": "ckRL2PCfgxy-"
      },
      "outputs": [],
      "source": [
        "residuals.columns=['residual']\n",
        "residuals.index=data1.Date"
      ]
    },
    {
      "cell_type": "code",
      "execution_count": null,
      "metadata": {
        "id": "AJwb8Me7gxy-",
        "outputId": "1b4f6e6f-d633-40ab-b91a-338d121d4e19"
      },
      "outputs": [
        {
          "data": {
            "text/html": [
              "<div>\n",
              "<style scoped>\n",
              "    .dataframe tbody tr th:only-of-type {\n",
              "        vertical-align: middle;\n",
              "    }\n",
              "\n",
              "    .dataframe tbody tr th {\n",
              "        vertical-align: top;\n",
              "    }\n",
              "\n",
              "    .dataframe thead th {\n",
              "        text-align: right;\n",
              "    }\n",
              "</style>\n",
              "<table border=\"1\" class=\"dataframe\">\n",
              "  <thead>\n",
              "    <tr style=\"text-align: right;\">\n",
              "      <th></th>\n",
              "      <th>residual</th>\n",
              "    </tr>\n",
              "    <tr>\n",
              "      <th>Date</th>\n",
              "      <th></th>\n",
              "    </tr>\n",
              "  </thead>\n",
              "  <tbody>\n",
              "    <tr>\n",
              "      <th>2017-01-04</th>\n",
              "      <td>0.042459</td>\n",
              "    </tr>\n",
              "    <tr>\n",
              "      <th>2017-01-05</th>\n",
              "      <td>-0.003653</td>\n",
              "    </tr>\n",
              "    <tr>\n",
              "      <th>2017-01-06</th>\n",
              "      <td>0.007322</td>\n",
              "    </tr>\n",
              "    <tr>\n",
              "      <th>2017-01-09</th>\n",
              "      <td>0.007268</td>\n",
              "    </tr>\n",
              "    <tr>\n",
              "      <th>2017-01-10</th>\n",
              "      <td>-0.008711</td>\n",
              "    </tr>\n",
              "    <tr>\n",
              "      <th>...</th>\n",
              "      <td>...</td>\n",
              "    </tr>\n",
              "    <tr>\n",
              "      <th>2021-11-10</th>\n",
              "      <td>0.039917</td>\n",
              "    </tr>\n",
              "    <tr>\n",
              "      <th>2021-11-11</th>\n",
              "      <td>-0.006761</td>\n",
              "    </tr>\n",
              "    <tr>\n",
              "      <th>2021-11-12</th>\n",
              "      <td>-0.031296</td>\n",
              "    </tr>\n",
              "    <tr>\n",
              "      <th>2021-11-15</th>\n",
              "      <td>-0.022168</td>\n",
              "    </tr>\n",
              "    <tr>\n",
              "      <th>2021-11-16</th>\n",
              "      <td>0.037388</td>\n",
              "    </tr>\n",
              "  </tbody>\n",
              "</table>\n",
              "<p>1227 rows × 1 columns</p>\n",
              "</div>"
            ],
            "text/plain": [
              "            residual\n",
              "Date                \n",
              "2017-01-04  0.042459\n",
              "2017-01-05 -0.003653\n",
              "2017-01-06  0.007322\n",
              "2017-01-09  0.007268\n",
              "2017-01-10 -0.008711\n",
              "...              ...\n",
              "2021-11-10  0.039917\n",
              "2021-11-11 -0.006761\n",
              "2021-11-12 -0.031296\n",
              "2021-11-15 -0.022168\n",
              "2021-11-16  0.037388\n",
              "\n",
              "[1227 rows x 1 columns]"
            ]
          },
          "execution_count": 187,
          "metadata": {},
          "output_type": "execute_result"
        }
      ],
      "source": [
        "residuals"
      ]
    },
    {
      "cell_type": "markdown",
      "metadata": {
        "id": "ZmgWse3Bgxy-"
      },
      "source": [
        "Above data set is residual data set for train data. We will perform Ljungbox test on residual and $residual^2$ datasets."
      ]
    },
    {
      "cell_type": "markdown",
      "metadata": {
        "id": "MGQEC1l5gxy-"
      },
      "source": [
        "# Ljungbox test"
      ]
    },
    {
      "cell_type": "code",
      "execution_count": null,
      "metadata": {
        "id": "XIUQ_2argxy-",
        "outputId": "850ac50a-bab2-4b1c-d65a-88ea26338907"
      },
      "outputs": [
        {
          "data": {
            "text/html": [
              "<div>\n",
              "<style scoped>\n",
              "    .dataframe tbody tr th:only-of-type {\n",
              "        vertical-align: middle;\n",
              "    }\n",
              "\n",
              "    .dataframe tbody tr th {\n",
              "        vertical-align: top;\n",
              "    }\n",
              "\n",
              "    .dataframe thead th {\n",
              "        text-align: right;\n",
              "    }\n",
              "</style>\n",
              "<table border=\"1\" class=\"dataframe\">\n",
              "  <thead>\n",
              "    <tr style=\"text-align: right;\">\n",
              "      <th></th>\n",
              "      <th>lb_stat</th>\n",
              "      <th>lb_pvalue</th>\n",
              "    </tr>\n",
              "  </thead>\n",
              "  <tbody>\n",
              "    <tr>\n",
              "      <th>5</th>\n",
              "      <td>7.973162</td>\n",
              "      <td>0.157721</td>\n",
              "    </tr>\n",
              "  </tbody>\n",
              "</table>\n",
              "</div>"
            ],
            "text/plain": [
              "    lb_stat  lb_pvalue\n",
              "5  7.973162   0.157721"
            ]
          },
          "execution_count": 182,
          "metadata": {},
          "output_type": "execute_result"
        }
      ],
      "source": [
        "sm.stats.acorr_ljungbox(model_arima.resid, lags=[5], return_df=True)"
      ]
    },
    {
      "cell_type": "code",
      "execution_count": null,
      "metadata": {
        "id": "H-npNK14gxy_",
        "outputId": "28a91de3-e30d-40af-b51d-e985aa4a87d3"
      },
      "outputs": [
        {
          "data": {
            "text/html": [
              "<div>\n",
              "<style scoped>\n",
              "    .dataframe tbody tr th:only-of-type {\n",
              "        vertical-align: middle;\n",
              "    }\n",
              "\n",
              "    .dataframe tbody tr th {\n",
              "        vertical-align: top;\n",
              "    }\n",
              "\n",
              "    .dataframe thead th {\n",
              "        text-align: right;\n",
              "    }\n",
              "</style>\n",
              "<table border=\"1\" class=\"dataframe\">\n",
              "  <thead>\n",
              "    <tr style=\"text-align: right;\">\n",
              "      <th></th>\n",
              "      <th>lb_stat</th>\n",
              "      <th>lb_pvalue</th>\n",
              "    </tr>\n",
              "  </thead>\n",
              "  <tbody>\n",
              "    <tr>\n",
              "      <th>5</th>\n",
              "      <td>153.604389</td>\n",
              "      <td>2.280915e-31</td>\n",
              "    </tr>\n",
              "  </tbody>\n",
              "</table>\n",
              "</div>"
            ],
            "text/plain": [
              "      lb_stat     lb_pvalue\n",
              "5  153.604389  2.280915e-31"
            ]
          },
          "execution_count": 183,
          "metadata": {},
          "output_type": "execute_result"
        }
      ],
      "source": [
        "sm.stats.acorr_ljungbox(model_arima.resid**2, lags=[5], return_df=True)"
      ]
    },
    {
      "cell_type": "markdown",
      "metadata": {
        "id": "bogpade9gxy_"
      },
      "source": [
        "Appling Ljungbox test on residual and $residual^2$ , we saw that null hypothesis is accepted for residual and is not accepted for $residual^2$. So we can perform further procedure "
      ]
    },
    {
      "cell_type": "markdown",
      "metadata": {
        "id": "_TtKzPD0gxy_"
      },
      "source": [
        "# Procedure 1."
      ]
    },
    {
      "cell_type": "markdown",
      "metadata": {
        "id": "0ws9VuAFgxy_"
      },
      "source": [
        "# GARCH model\n",
        "Now we will try to find appropriate GARCH model to get volatility"
      ]
    },
    {
      "cell_type": "code",
      "execution_count": null,
      "metadata": {
        "id": "9kwmcDewgxy_"
      },
      "outputs": [],
      "source": [
        "from arch import arch_model"
      ]
    },
    {
      "cell_type": "code",
      "execution_count": null,
      "metadata": {
        "id": "ZCHjF1VLgxy_"
      },
      "outputs": [],
      "source": [
        "def aic_bic(data=data1['rate'],p_range=4,q_range=4):\n",
        "    d=pd.DataFrame({'p':[],'q':[],'aic':[],'bic':[]})\n",
        "    for i in range(1,p_range):\n",
        "        for j in range(1,q_range):\n",
        "            model=arch_model(data, p=i, q=j)\n",
        "            model=model.fit()\n",
        "            new={'p':i,'q':j,'aic': round(model.aic,2),'bic':round(model.bic,2)}\n",
        "            d=d.append(new,ignore_index=True)\n",
        "    return(d)"
      ]
    },
    {
      "cell_type": "code",
      "execution_count": null,
      "metadata": {
        "id": "AP7OwfEZgxzA",
        "outputId": "a1b3b6aa-4b28-48a9-e80e-0ee263357092"
      },
      "outputs": [
        {
          "name": "stdout",
          "output_type": "stream",
          "text": [
            "Iteration:      1,   Func. Count:      6,   Neg. LLF: 78684611.69536704\n",
            "Iteration:      2,   Func. Count:     17,   Neg. LLF: 30755845.056136947\n",
            "Iteration:      3,   Func. Count:     28,   Neg. LLF: 1604585948992.2974\n",
            "Iteration:      4,   Func. Count:     38,   Neg. LLF: 10440.232059763566\n",
            "Iteration:      5,   Func. Count:     47,   Neg. LLF: -2384.1538027621687\n",
            "Optimization terminated successfully    (Exit mode 0)\n",
            "            Current function value: -2384.153803909521\n",
            "            Iterations: 9\n",
            "            Function evaluations: 47\n",
            "            Gradient evaluations: 5\n",
            "Iteration:      1,   Func. Count:      7,   Neg. LLF: 14672485.309376791\n",
            "Iteration:      2,   Func. Count:     19,   Neg. LLF: 217477.41609222078\n",
            "Iteration:      3,   Func. Count:     31,   Neg. LLF: 792817358554862.0\n",
            "Iteration:      4,   Func. Count:     43,   Neg. LLF: 1224679.471754722\n",
            "Iteration:      5,   Func. Count:     55,   Neg. LLF: -2382.657596265878\n",
            "Optimization terminated successfully    (Exit mode 0)\n",
            "            Current function value: -2382.657599551221\n",
            "            Iterations: 9\n",
            "            Function evaluations: 55\n",
            "            Gradient evaluations: 5\n",
            "Iteration:      1,   Func. Count:      8,   Neg. LLF: 16775002.945370782\n",
            "Iteration:      2,   Func. Count:     21,   Neg. LLF: 343717.5989222902\n",
            "Iteration:      3,   Func. Count:     34,   Neg. LLF: -2380.2443623444806\n",
            "Optimization terminated successfully    (Exit mode 0)\n",
            "            Current function value: -2380.244366447916\n",
            "            Iterations: 7\n",
            "            Function evaluations: 34\n",
            "            Gradient evaluations: 3\n",
            "Iteration:      1,   Func. Count:      7,   Neg. LLF: 7453595.964026013\n",
            "Iteration:      2,   Func. Count:     19,   Neg. LLF: 234683.2074855288\n",
            "Iteration:      3,   Func. Count:     31,   Neg. LLF: 7111.856686511826\n",
            "Iteration:      4,   Func. Count:     40,   Neg. LLF: 16773995.174984517\n",
            "Iteration:      5,   Func. Count:     52,   Neg. LLF: 2496.1851903734428\n",
            "Iteration:      6,   Func. Count:     63,   Neg. LLF: -58.88671748791687\n",
            "Iteration:      7,   Func. Count:     72,   Neg. LLF: -1172.041443366312\n",
            "Iteration:      8,   Func. Count:     80,   Neg. LLF: -1882.2867659024037\n",
            "Iteration:      9,   Func. Count:     89,   Neg. LLF: -2156.1688762161516\n",
            "Iteration:     10,   Func. Count:     97,   Neg. LLF: -1849.6770568290704\n",
            "Iteration:     11,   Func. Count:    104,   Neg. LLF: -2296.028229077373\n",
            "Iteration:     12,   Func. Count:    111,   Neg. LLF: -2383.7915231863194\n",
            "Iteration:     13,   Func. Count:    117,   Neg. LLF: -2384.3168161645217\n",
            "Iteration:     14,   Func. Count:    123,   Neg. LLF: -2384.4223924993166\n",
            "Iteration:     15,   Func. Count:    129,   Neg. LLF: -2384.4318741096117\n",
            "Iteration:     16,   Func. Count:    135,   Neg. LLF: -2384.4328980993705\n",
            "Iteration:     17,   Func. Count:    141,   Neg. LLF: -2384.432880719125\n",
            "Optimization terminated successfully    (Exit mode 0)\n",
            "            Current function value: -2384.4328980993705\n",
            "            Iterations: 19\n",
            "            Function evaluations: 151\n",
            "            Gradient evaluations: 17\n",
            "Iteration:      1,   Func. Count:      8,   Neg. LLF: 10634786.170704262\n",
            "Iteration:      2,   Func. Count:     21,   Neg. LLF: 290083.6387256167\n",
            "Iteration:      3,   Func. Count:     35,   Neg. LLF: 38460.336026630015\n",
            "Iteration:      4,   Func. Count:     46,   Neg. LLF: -2380.974079742946\n",
            "Optimization terminated successfully    (Exit mode 0)\n",
            "            Current function value: -2380.974082995159\n",
            "            Iterations: 8\n",
            "            Function evaluations: 46\n",
            "            Gradient evaluations: 4\n",
            "Iteration:      1,   Func. Count:      9,   Neg. LLF: 257136511.14881063\n",
            "Iteration:      2,   Func. Count:     23,   Neg. LLF: 18.89492720035264\n",
            "Iteration:      3,   Func. Count:     33,   Neg. LLF: 5370.123798375474\n",
            "Iteration:      4,   Func. Count:     45,   Neg. LLF: 208079.1706855429\n",
            "Iteration:      5,   Func. Count:     56,   Neg. LLF: 33978.853093403595\n",
            "Iteration:      6,   Func. Count:     65,   Neg. LLF: -2338.8105111609602\n",
            "Iteration:      7,   Func. Count:     74,   Neg. LLF: 4284.029833688148\n",
            "Iteration:      8,   Func. Count:     83,   Neg. LLF: -2357.610608263577\n",
            "Iteration:      9,   Func. Count:     92,   Neg. LLF: -2286.948173478016\n",
            "Iteration:     10,   Func. Count:    101,   Neg. LLF: -2345.1927421399705\n",
            "Iteration:     11,   Func. Count:    111,   Neg. LLF: -2369.234898919811\n",
            "Iteration:     12,   Func. Count:    120,   Neg. LLF: -2371.2216208193568\n",
            "Iteration:     13,   Func. Count:    129,   Neg. LLF: -2387.4761056463394\n",
            "Iteration:     14,   Func. Count:    137,   Neg. LLF: 4645.198272851072\n",
            "Iteration:     15,   Func. Count:    149,   Neg. LLF: 2104039.162108906\n",
            "Iteration:     16,   Func. Count:    163,   Neg. LLF: 563.3207107860264\n",
            "Iteration:     17,   Func. Count:    176,   Neg. LLF: -2212.290747300408\n",
            "Iteration:     18,   Func. Count:    187,   Neg. LLF: -2304.1269500350327\n",
            "Iteration:     19,   Func. Count:    198,   Neg. LLF: -2351.5372183671275\n",
            "Iteration:     20,   Func. Count:    208,   Neg. LLF: -2382.3168096009804\n",
            "Iteration:     21,   Func. Count:    218,   Neg. LLF: -2387.4833450884803\n",
            "Iteration:     22,   Func. Count:    228,   Neg. LLF: -2387.483358442022\n",
            "Optimization terminated successfully    (Exit mode 0)\n",
            "            Current function value: -2387.4833656010246\n",
            "            Iterations: 23\n",
            "            Function evaluations: 230\n",
            "            Gradient evaluations: 22\n",
            "Iteration:      1,   Func. Count:      8,   Neg. LLF: 8501726.31519669\n",
            "Iteration:      2,   Func. Count:     21,   Neg. LLF: -476.84065039953964\n",
            "Iteration:      3,   Func. Count:     33,   Neg. LLF: -1907.0550929688932\n",
            "Iteration:      4,   Func. Count:     43,   Neg. LLF: -2258.9468631130485\n",
            "Iteration:      5,   Func. Count:     52,   Neg. LLF: -1892.4949424085937\n",
            "Iteration:      6,   Func. Count:     61,   Neg. LLF: -2383.9406751190636\n",
            "Iteration:      7,   Func. Count:     68,   Neg. LLF: -2378.4244503151876\n",
            "Iteration:      8,   Func. Count:     76,   Neg. LLF: -2384.344994487029\n",
            "Iteration:      9,   Func. Count:     83,   Neg. LLF: -2384.423344338281\n",
            "Iteration:     10,   Func. Count:     90,   Neg. LLF: -2384.431748658863\n",
            "Iteration:     11,   Func. Count:     97,   Neg. LLF: -2384.4327469789423\n",
            "Iteration:     12,   Func. Count:    104,   Neg. LLF: -2384.432852593735\n",
            "Iteration:     13,   Func. Count:    111,   Neg. LLF: -2384.4328880163685\n",
            "Iteration:     14,   Func. Count:    117,   Neg. LLF: -2384.4328880141084\n",
            "Optimization terminated successfully    (Exit mode 0)\n",
            "            Current function value: -2384.4328880163685\n",
            "            Iterations: 14\n",
            "            Function evaluations: 117\n",
            "            Gradient evaluations: 14\n",
            "Iteration:      1,   Func. Count:      9,   Neg. LLF: 12851776.366362704\n",
            "Iteration:      2,   Func. Count:     23,   Neg. LLF: 13768928.498658689\n",
            "Iteration:      3,   Func. Count:     37,   Neg. LLF: 239322.6192173315\n",
            "Iteration:      4,   Func. Count:     50,   Neg. LLF: -2377.405547387283\n",
            "Optimization terminated successfully    (Exit mode 0)\n",
            "            Current function value: -2377.4055497383215\n",
            "            Iterations: 8\n",
            "            Function evaluations: 50\n",
            "            Gradient evaluations: 4\n",
            "Iteration:      1,   Func. Count:     10,   Neg. LLF: 30809891.69549243\n",
            "Iteration:      2,   Func. Count:     25,   Neg. LLF: 9081.458012508101\n",
            "Iteration:      3,   Func. Count:     37,   Neg. LLF: -134.44008520570497\n",
            "Iteration:      4,   Func. Count:     50,   Neg. LLF: 369431282313.2357\n",
            "Iteration:      5,   Func. Count:     63,   Neg. LLF: -2273.288206650717\n",
            "Iteration:      6,   Func. Count:     73,   Neg. LLF: -2261.7880151588706\n",
            "Iteration:      7,   Func. Count:     83,   Neg. LLF: -2153.224407242467\n",
            "Iteration:      8,   Func. Count:     93,   Neg. LLF: -2324.352306765478\n",
            "Iteration:      9,   Func. Count:    103,   Neg. LLF: -2375.3206431656586\n",
            "Iteration:     10,   Func. Count:    113,   Neg. LLF: -2381.881450443109\n",
            "Iteration:     11,   Func. Count:    123,   Neg. LLF: -2378.894112275425\n",
            "Iteration:     12,   Func. Count:    133,   Neg. LLF: -2358.9394449622478\n",
            "Iteration:     13,   Func. Count:    143,   Neg. LLF: -2374.208374131382\n",
            "Iteration:     14,   Func. Count:    153,   Neg. LLF: -2387.357607897349\n",
            "Iteration:     15,   Func. Count:    162,   Neg. LLF: -2387.381135098988\n",
            "Iteration:     16,   Func. Count:    172,   Neg. LLF: -2387.3143778934564\n",
            "Iteration:     17,   Func. Count:    182,   Neg. LLF: -2387.4843773160255\n",
            "Iteration:     18,   Func. Count:    191,   Neg. LLF: -2387.484580882782\n",
            "Iteration:     19,   Func. Count:    200,   Neg. LLF: -2387.4846235176087\n",
            "Iteration:     20,   Func. Count:    209,   Neg. LLF: -2387.4846271000124\n",
            "Iteration:     21,   Func. Count:    219,   Neg. LLF: -2387.4846266744466\n",
            "Optimization terminated successfully    (Exit mode 0)\n",
            "            Current function value: -2387.484631639571\n",
            "            Iterations: 21\n",
            "            Function evaluations: 229\n",
            "            Gradient evaluations: 21\n"
          ]
        }
      ],
      "source": [
        "d=aic_bic()"
      ]
    },
    {
      "cell_type": "code",
      "execution_count": null,
      "metadata": {
        "id": "FpnKBaTNgxzA",
        "outputId": "19a01ff0-6695-4e9d-e99e-791137cfde64"
      },
      "outputs": [
        {
          "data": {
            "text/html": [
              "<div>\n",
              "<style scoped>\n",
              "    .dataframe tbody tr th:only-of-type {\n",
              "        vertical-align: middle;\n",
              "    }\n",
              "\n",
              "    .dataframe tbody tr th {\n",
              "        vertical-align: top;\n",
              "    }\n",
              "\n",
              "    .dataframe thead th {\n",
              "        text-align: right;\n",
              "    }\n",
              "</style>\n",
              "<table border=\"1\" class=\"dataframe\">\n",
              "  <thead>\n",
              "    <tr style=\"text-align: right;\">\n",
              "      <th></th>\n",
              "      <th>p</th>\n",
              "      <th>q</th>\n",
              "      <th>aic</th>\n",
              "      <th>bic</th>\n",
              "    </tr>\n",
              "  </thead>\n",
              "  <tbody>\n",
              "    <tr>\n",
              "      <th>0</th>\n",
              "      <td>1.0</td>\n",
              "      <td>1.0</td>\n",
              "      <td>-4760.31</td>\n",
              "      <td>-4739.86</td>\n",
              "    </tr>\n",
              "    <tr>\n",
              "      <th>1</th>\n",
              "      <td>1.0</td>\n",
              "      <td>2.0</td>\n",
              "      <td>-4755.32</td>\n",
              "      <td>-4729.75</td>\n",
              "    </tr>\n",
              "    <tr>\n",
              "      <th>2</th>\n",
              "      <td>1.0</td>\n",
              "      <td>3.0</td>\n",
              "      <td>-4748.49</td>\n",
              "      <td>-4717.81</td>\n",
              "    </tr>\n",
              "    <tr>\n",
              "      <th>3</th>\n",
              "      <td>2.0</td>\n",
              "      <td>1.0</td>\n",
              "      <td>-4758.87</td>\n",
              "      <td>-4733.30</td>\n",
              "    </tr>\n",
              "    <tr>\n",
              "      <th>4</th>\n",
              "      <td>2.0</td>\n",
              "      <td>2.0</td>\n",
              "      <td>-4749.95</td>\n",
              "      <td>-4719.27</td>\n",
              "    </tr>\n",
              "    <tr>\n",
              "      <th>5</th>\n",
              "      <td>2.0</td>\n",
              "      <td>3.0</td>\n",
              "      <td>-4760.97</td>\n",
              "      <td>-4725.18</td>\n",
              "    </tr>\n",
              "    <tr>\n",
              "      <th>6</th>\n",
              "      <td>3.0</td>\n",
              "      <td>1.0</td>\n",
              "      <td>-4756.87</td>\n",
              "      <td>-4726.19</td>\n",
              "    </tr>\n",
              "    <tr>\n",
              "      <th>7</th>\n",
              "      <td>3.0</td>\n",
              "      <td>2.0</td>\n",
              "      <td>-4740.81</td>\n",
              "      <td>-4705.02</td>\n",
              "    </tr>\n",
              "    <tr>\n",
              "      <th>8</th>\n",
              "      <td>3.0</td>\n",
              "      <td>3.0</td>\n",
              "      <td>-4758.97</td>\n",
              "      <td>-4718.07</td>\n",
              "    </tr>\n",
              "  </tbody>\n",
              "</table>\n",
              "</div>"
            ],
            "text/plain": [
              "     p    q      aic      bic\n",
              "0  1.0  1.0 -4760.31 -4739.86\n",
              "1  1.0  2.0 -4755.32 -4729.75\n",
              "2  1.0  3.0 -4748.49 -4717.81\n",
              "3  2.0  1.0 -4758.87 -4733.30\n",
              "4  2.0  2.0 -4749.95 -4719.27\n",
              "5  2.0  3.0 -4760.97 -4725.18\n",
              "6  3.0  1.0 -4756.87 -4726.19\n",
              "7  3.0  2.0 -4740.81 -4705.02\n",
              "8  3.0  3.0 -4758.97 -4718.07"
            ]
          },
          "execution_count": 35,
          "metadata": {},
          "output_type": "execute_result"
        }
      ],
      "source": [
        "d"
      ]
    },
    {
      "cell_type": "markdown",
      "metadata": {
        "id": "YL3uAbiagxzA"
      },
      "source": [
        "Above table shows aic and bic for diffrent p and q used in GARCH model, from the table we can conclude that 'p=2, q=1' can be a good fit for GARCH."
      ]
    },
    {
      "cell_type": "code",
      "execution_count": null,
      "metadata": {
        "id": "V41Zre6MgxzA",
        "outputId": "bdfc32f6-50d7-4791-ac7d-51162b239315"
      },
      "outputs": [
        {
          "name": "stdout",
          "output_type": "stream",
          "text": [
            "Iteration:      1,   Func. Count:      7,   Neg. LLF: 7453595.964026013\n",
            "Iteration:      2,   Func. Count:     19,   Neg. LLF: 234683.2074855288\n",
            "Iteration:      3,   Func. Count:     31,   Neg. LLF: 7111.856686511826\n",
            "Iteration:      4,   Func. Count:     40,   Neg. LLF: 16773995.174984517\n",
            "Iteration:      5,   Func. Count:     52,   Neg. LLF: 2496.1851903734428\n",
            "Iteration:      6,   Func. Count:     63,   Neg. LLF: -58.88671748791687\n",
            "Iteration:      7,   Func. Count:     72,   Neg. LLF: -1172.041443366312\n",
            "Iteration:      8,   Func. Count:     80,   Neg. LLF: -1882.2867659024037\n",
            "Iteration:      9,   Func. Count:     89,   Neg. LLF: -2156.1688762161516\n",
            "Iteration:     10,   Func. Count:     97,   Neg. LLF: -1849.6770568290704\n",
            "Iteration:     11,   Func. Count:    104,   Neg. LLF: -2296.028229077373\n",
            "Iteration:     12,   Func. Count:    111,   Neg. LLF: -2383.7915231863194\n",
            "Iteration:     13,   Func. Count:    117,   Neg. LLF: -2384.3168161645217\n",
            "Iteration:     14,   Func. Count:    123,   Neg. LLF: -2384.4223924993166\n",
            "Iteration:     15,   Func. Count:    129,   Neg. LLF: -2384.4318741096117\n",
            "Iteration:     16,   Func. Count:    135,   Neg. LLF: -2384.4328980993705\n",
            "Iteration:     17,   Func. Count:    141,   Neg. LLF: -2384.432880719125\n",
            "Optimization terminated successfully    (Exit mode 0)\n",
            "            Current function value: -2384.4328980993705\n",
            "            Iterations: 19\n",
            "            Function evaluations: 151\n",
            "            Gradient evaluations: 17\n"
          ]
        }
      ],
      "source": [
        "model=arch_model(data1['rate'], p=2, q=1)\n",
        "model=model.fit()"
      ]
    },
    {
      "cell_type": "code",
      "execution_count": null,
      "metadata": {
        "id": "GdS2mfTpgxzA",
        "outputId": "83eb00e4-7107-4e47-b079-7aefe0bbfe29"
      },
      "outputs": [
        {
          "data": {
            "text/html": [
              "<table class=\"simpletable\">\n",
              "<caption>Constant Mean - GARCH Model Results</caption>\n",
              "<tr>\n",
              "  <th>Dep. Variable:</th>        <td>rate</td>        <th>  R-squared:         </th>  <td>   0.000</td> \n",
              "</tr>\n",
              "<tr>\n",
              "  <th>Mean Model:</th>       <td>Constant Mean</td>   <th>  Adj. R-squared:    </th>  <td>   0.000</td> \n",
              "</tr>\n",
              "<tr>\n",
              "  <th>Vol Model:</th>            <td>GARCH</td>       <th>  Log-Likelihood:    </th> <td>   2384.43</td>\n",
              "</tr>\n",
              "<tr>\n",
              "  <th>Distribution:</th>        <td>Normal</td>       <th>  AIC:               </th> <td>  -4758.87</td>\n",
              "</tr>\n",
              "<tr>\n",
              "  <th>Method:</th>        <td>Maximum Likelihood</td> <th>  BIC:               </th> <td>  -4733.30</td>\n",
              "</tr>\n",
              "<tr>\n",
              "  <th></th>                        <td></td>          <th>  No. Observations:  </th>    <td>1227</td>   \n",
              "</tr>\n",
              "<tr>\n",
              "  <th>Date:</th>           <td>Sun, Nov 28 2021</td>  <th>  Df Residuals:      </th>    <td>1226</td>   \n",
              "</tr>\n",
              "<tr>\n",
              "  <th>Time:</th>               <td>21:06:37</td>      <th>  Df Model:          </th>      <td>1</td>    \n",
              "</tr>\n",
              "</table>\n",
              "<table class=\"simpletable\">\n",
              "<caption>Mean Model</caption>\n",
              "<tr>\n",
              "   <td></td>     <th>coef</th>     <th>std err</th>      <th>t</th>       <th>P>|t|</th>     <th>95.0% Conf. Int.</th>   \n",
              "</tr>\n",
              "<tr>\n",
              "  <th>mu</th> <td>2.2212e-03</td> <td>9.611e-04</td> <td>    2.311</td> <td>2.082e-02</td> <td>[3.375e-04,4.105e-03]</td>\n",
              "</tr>\n",
              "</table>\n",
              "<table class=\"simpletable\">\n",
              "<caption>Volatility Model</caption>\n",
              "<tr>\n",
              "      <td></td>        <th>coef</th>     <th>std err</th>      <th>t</th>        <th>P>|t|</th>      <th>95.0% Conf. Int.</th>   \n",
              "</tr>\n",
              "<tr>\n",
              "  <th>omega</th>    <td>3.6966e-05</td> <td>7.427e-06</td> <td>    4.977</td>  <td>6.454e-07</td>  <td>[2.241e-05,5.152e-05]</td>\n",
              "</tr>\n",
              "<tr>\n",
              "  <th>alpha[1]</th> <td>    0.0612</td> <td>2.772e-02</td> <td>    2.208</td>  <td>2.725e-02</td>   <td>[6.872e-03,  0.116]</td> \n",
              "</tr>\n",
              "<tr>\n",
              "  <th>alpha[2]</th> <td>4.2465e-19</td> <td>3.469e-02</td> <td>1.224e-17</td>  <td>    1.000</td> <td>[-6.799e-02,6.799e-02]</td>\n",
              "</tr>\n",
              "<tr>\n",
              "  <th>beta[1]</th>  <td>    0.9131</td> <td>2.485e-02</td> <td>   36.741</td> <td>1.589e-295</td>    <td>[  0.864,  0.962]</td>  \n",
              "</tr>\n",
              "</table><br/><br/>Covariance estimator: robust"
            ],
            "text/plain": [
              "<class 'statsmodels.iolib.summary.Summary'>\n",
              "\"\"\"\n",
              "                     Constant Mean - GARCH Model Results                      \n",
              "==============================================================================\n",
              "Dep. Variable:                   rate   R-squared:                       0.000\n",
              "Mean Model:             Constant Mean   Adj. R-squared:                  0.000\n",
              "Vol Model:                      GARCH   Log-Likelihood:                2384.43\n",
              "Distribution:                  Normal   AIC:                          -4758.87\n",
              "Method:            Maximum Likelihood   BIC:                          -4733.30\n",
              "                                        No. Observations:                 1227\n",
              "Date:                Sun, Nov 28 2021   Df Residuals:                     1226\n",
              "Time:                        21:06:37   Df Model:                            1\n",
              "                                 Mean Model                                 \n",
              "============================================================================\n",
              "                 coef    std err          t      P>|t|      95.0% Conf. Int.\n",
              "----------------------------------------------------------------------------\n",
              "mu         2.2212e-03  9.611e-04      2.311  2.082e-02 [3.375e-04,4.105e-03]\n",
              "                               Volatility Model                              \n",
              "=============================================================================\n",
              "                 coef    std err          t      P>|t|       95.0% Conf. Int.\n",
              "-----------------------------------------------------------------------------\n",
              "omega      3.6966e-05  7.427e-06      4.977  6.454e-07  [2.241e-05,5.152e-05]\n",
              "alpha[1]       0.0612  2.772e-02      2.208  2.725e-02    [6.872e-03,  0.116]\n",
              "alpha[2]   4.2465e-19  3.469e-02  1.224e-17      1.000 [-6.799e-02,6.799e-02]\n",
              "beta[1]        0.9131  2.485e-02     36.741 1.589e-295      [  0.864,  0.962]\n",
              "=============================================================================\n",
              "\n",
              "Covariance estimator: robust\n",
              "\"\"\""
            ]
          },
          "execution_count": 129,
          "metadata": {},
          "output_type": "execute_result"
        }
      ],
      "source": [
        "model.summary()"
      ]
    },
    {
      "cell_type": "markdown",
      "metadata": {
        "id": "UT0q1NHjgxzB"
      },
      "source": [
        "In the above model, GARCH(2,1) model is fitted.From the above summary,we can see that alpha[2] is not significant in this model. So we will try GARCH(1,1) model now."
      ]
    },
    {
      "cell_type": "code",
      "execution_count": null,
      "metadata": {
        "id": "qbWwyEKXgxzB",
        "outputId": "9b7c8bd6-0512-4aa3-a950-9fb8dcc24606"
      },
      "outputs": [
        {
          "name": "stdout",
          "output_type": "stream",
          "text": [
            "Iteration:      1,   Func. Count:      6,   Neg. LLF: 78684611.69536704\n",
            "Iteration:      2,   Func. Count:     17,   Neg. LLF: 30755845.056136947\n",
            "Iteration:      3,   Func. Count:     28,   Neg. LLF: 1604585948992.2974\n",
            "Iteration:      4,   Func. Count:     38,   Neg. LLF: 10440.232059763566\n",
            "Iteration:      5,   Func. Count:     47,   Neg. LLF: -2384.1538027621687\n",
            "Optimization terminated successfully    (Exit mode 0)\n",
            "            Current function value: -2384.153803909521\n",
            "            Iterations: 9\n",
            "            Function evaluations: 47\n",
            "            Gradient evaluations: 5\n"
          ]
        }
      ],
      "source": [
        "model=arch_model(data1['rate'], p=1, q=1)\n",
        "model_garch=model.fit()"
      ]
    },
    {
      "cell_type": "code",
      "execution_count": null,
      "metadata": {
        "id": "xeYYyQfFgxzB",
        "outputId": "d11b3c96-9f61-4fe0-a3db-e175b85aef99"
      },
      "outputs": [
        {
          "data": {
            "text/html": [
              "<table class=\"simpletable\">\n",
              "<caption>Constant Mean - GARCH Model Results</caption>\n",
              "<tr>\n",
              "  <th>Dep. Variable:</th>        <td>rate</td>        <th>  R-squared:         </th>  <td>   0.000</td> \n",
              "</tr>\n",
              "<tr>\n",
              "  <th>Mean Model:</th>       <td>Constant Mean</td>   <th>  Adj. R-squared:    </th>  <td>   0.000</td> \n",
              "</tr>\n",
              "<tr>\n",
              "  <th>Vol Model:</th>            <td>GARCH</td>       <th>  Log-Likelihood:    </th> <td>   2384.15</td>\n",
              "</tr>\n",
              "<tr>\n",
              "  <th>Distribution:</th>        <td>Normal</td>       <th>  AIC:               </th> <td>  -4760.31</td>\n",
              "</tr>\n",
              "<tr>\n",
              "  <th>Method:</th>        <td>Maximum Likelihood</td> <th>  BIC:               </th> <td>  -4739.86</td>\n",
              "</tr>\n",
              "<tr>\n",
              "  <th></th>                        <td></td>          <th>  No. Observations:  </th>    <td>1227</td>   \n",
              "</tr>\n",
              "<tr>\n",
              "  <th>Date:</th>           <td>Sun, Nov 28 2021</td>  <th>  Df Residuals:      </th>    <td>1226</td>   \n",
              "</tr>\n",
              "<tr>\n",
              "  <th>Time:</th>               <td>21:20:25</td>      <th>  Df Model:          </th>      <td>1</td>    \n",
              "</tr>\n",
              "</table>\n",
              "<table class=\"simpletable\">\n",
              "<caption>Mean Model</caption>\n",
              "<tr>\n",
              "   <td></td>     <th>coef</th>     <th>std err</th>      <th>t</th>       <th>P>|t|</th>     <th>95.0% Conf. Int.</th>   \n",
              "</tr>\n",
              "<tr>\n",
              "  <th>mu</th> <td>2.1916e-03</td> <td>9.466e-04</td> <td>    2.315</td> <td>2.060e-02</td> <td>[3.363e-04,4.047e-03]</td>\n",
              "</tr>\n",
              "</table>\n",
              "<table class=\"simpletable\">\n",
              "<caption>Volatility Model</caption>\n",
              "<tr>\n",
              "      <td></td>        <th>coef</th>     <th>std err</th>      <th>t</th>       <th>P>|t|</th>     <th>95.0% Conf. Int.</th>   \n",
              "</tr>\n",
              "<tr>\n",
              "  <th>omega</th>    <td>2.8820e-05</td> <td>3.799e-06</td> <td>    7.587</td> <td>3.269e-14</td> <td>[2.138e-05,3.627e-05]</td>\n",
              "</tr>\n",
              "<tr>\n",
              "  <th>alpha[1]</th> <td>    0.0500</td> <td>1.587e-02</td> <td>    3.152</td> <td>1.624e-03</td> <td>[1.890e-02,8.109e-02]</td>\n",
              "</tr>\n",
              "<tr>\n",
              "  <th>beta[1]</th>  <td>    0.9300</td> <td>1.537e-02</td> <td>   60.496</td>   <td>0.000</td>     <td>[  0.900,  0.960]</td>  \n",
              "</tr>\n",
              "</table><br/><br/>Covariance estimator: robust"
            ],
            "text/plain": [
              "<class 'statsmodels.iolib.summary.Summary'>\n",
              "\"\"\"\n",
              "                     Constant Mean - GARCH Model Results                      \n",
              "==============================================================================\n",
              "Dep. Variable:                   rate   R-squared:                       0.000\n",
              "Mean Model:             Constant Mean   Adj. R-squared:                  0.000\n",
              "Vol Model:                      GARCH   Log-Likelihood:                2384.15\n",
              "Distribution:                  Normal   AIC:                          -4760.31\n",
              "Method:            Maximum Likelihood   BIC:                          -4739.86\n",
              "                                        No. Observations:                 1227\n",
              "Date:                Sun, Nov 28 2021   Df Residuals:                     1226\n",
              "Time:                        21:20:25   Df Model:                            1\n",
              "                                 Mean Model                                 \n",
              "============================================================================\n",
              "                 coef    std err          t      P>|t|      95.0% Conf. Int.\n",
              "----------------------------------------------------------------------------\n",
              "mu         2.1916e-03  9.466e-04      2.315  2.060e-02 [3.363e-04,4.047e-03]\n",
              "                              Volatility Model                              \n",
              "============================================================================\n",
              "                 coef    std err          t      P>|t|      95.0% Conf. Int.\n",
              "----------------------------------------------------------------------------\n",
              "omega      2.8820e-05  3.799e-06      7.587  3.269e-14 [2.138e-05,3.627e-05]\n",
              "alpha[1]       0.0500  1.587e-02      3.152  1.624e-03 [1.890e-02,8.109e-02]\n",
              "beta[1]        0.9300  1.537e-02     60.496      0.000     [  0.900,  0.960]\n",
              "============================================================================\n",
              "\n",
              "Covariance estimator: robust\n",
              "\"\"\""
            ]
          },
          "execution_count": 137,
          "metadata": {},
          "output_type": "execute_result"
        }
      ],
      "source": [
        "model_garch.summary()"
      ]
    },
    {
      "cell_type": "markdown",
      "metadata": {
        "id": "CXqAfKJIgxzB"
      },
      "source": [
        "Above model is GARCH(1,1) and from the above summary we can see that each coefficents are significants.So, Next we will predict future volatility of the data for next 7 days."
      ]
    },
    {
      "cell_type": "code",
      "execution_count": null,
      "metadata": {
        "id": "nz70DQZogxzB"
      },
      "outputs": [],
      "source": [
        "prediction = model_garch.forecast(horizon=7)\n",
        "future_dates = data_test.Date\n",
        "prediction = pd.Series(np.sqrt(prediction.variance.values[-1,:]), index=future_dates)"
      ]
    },
    {
      "cell_type": "code",
      "execution_count": null,
      "metadata": {
        "id": "cq938Gx0gxzC",
        "outputId": "b724716f-b569-47c9-ccec-bf750c9bdbb5"
      },
      "outputs": [
        {
          "data": {
            "text/plain": [
              "Text(0.5, 1.0, 'Volatility Prediction - Next 7 Days')"
            ]
          },
          "execution_count": 151,
          "metadata": {},
          "output_type": "execute_result"
        },
        {
          "data": {
            "image/png": "[encoded data removed]",
            "text/plain": [
              "<Figure size 1440x288 with 1 Axes>"
            ]
          },
          "metadata": {
            "needs_background": "light"
          },
          "output_type": "display_data"
        }
      ],
      "source": [
        "plt.figure(figsize=(20,4))\n",
        "prediction1=prediction.copy()\n",
        "prediction1.index=data_test.index\n",
        "plt.plot(prediction1)\n",
        "plt.xlabel('Date',fontsize=15)\n",
        "plt.title('Volatility Prediction - Next 7 Days', fontsize=20)"
      ]
    },
    {
      "cell_type": "markdown",
      "metadata": {
        "id": "XaMtvxhhgxzC"
      },
      "source": [
        "We have got above plotted curve on future volatility.Now we will plot estimated stock prise(comes from ARMA model) with volatility and true price(collected from test data set) for 7 days."
      ]
    },
    {
      "cell_type": "code",
      "execution_count": null,
      "metadata": {
        "id": "u0gLlBy8gxzC",
        "outputId": "5a240eef-97b9-4400-be56-dcf2f498bf67"
      },
      "outputs": [
        {
          "data": {
            "image/png": "[encoded data removed]",
            "text/plain": [
              "<Figure size 1440x432 with 1 Axes>"
            ]
          },
          "metadata": {
            "needs_background": "light"
          },
          "output_type": "display_data"
        }
      ],
      "source": [
        "start=len(data1)\n",
        "end=len(data1)+len(data_test)-1\n",
        "pred=model_arima.predict(start=start,end=end,typ='levels').rename('ARIMA Predictions')\n",
        "pred=pd.DataFrame(pred)\n",
        "prediction.index=pred.index\n",
        "pred['vol-']=pred['ARIMA Predictions']-prediction\n",
        "pred['vol+']=pred['ARIMA Predictions']+prediction\n",
        "\n",
        "l=[]\n",
        "l1=[]\n",
        "l2=[]\n",
        "j=list(pred.index)[0]\n",
        "for i in pred.index:\n",
        "    if i ==j:\n",
        "        l.append(math.exp(pred.loc[i]['ARIMA Predictions'])*data.loc[i-1]['Price'])\n",
        "        l1.append(math.exp(pred.loc[i]['vol-'])*data.loc[i-1]['Price'])\n",
        "        l2.append(math.exp(pred.loc[i]['vol+'])*data.loc[i-1]['Price'])\n",
        "    else:\n",
        "        l.append(math.exp(pred.loc[i]['ARIMA Predictions'])*l[-1])\n",
        "        l1.append(math.exp(pred.loc[i]['vol-'])*l1[-1])\n",
        "        l2.append(math.exp(pred.loc[i]['vol+'])*l2[-1])\n",
        "pred['Estimated_price']=l\n",
        "pred['Estimated_price_vol+']=l2\n",
        "pred['Estimated_price_vol-']=l1\n",
        "data_test.index=data_test['Date']\n",
        "pred.index=data_test['Date']\n",
        "plt.figure(figsize=(20,6))\n",
        "pred['Estimated_price'].plot(legend=True)\n",
        "data_test['Price'].plot(legend=True)\n",
        "\n",
        "plt.fill_between(pred.index, pred['Estimated_price_vol-'],\n",
        "                 pred['Estimated_price_vol+'], color='red', alpha=.3)\n",
        "plt.title('ARMA prediction with volatility',fontsize=20)\n",
        "plt.xlabel('Date',fontsize=15)\n",
        "plt.ylabel('Price',fontsize=15)\n",
        "plt.show()"
      ]
    },
    {
      "cell_type": "code",
      "execution_count": null,
      "metadata": {
        "id": "UVqGf5eVgxzC",
        "outputId": "1dcc1952-c9ae-4a1d-8f1d-fa4c8bb60a8c"
      },
      "outputs": [
        {
          "name": "stdout",
          "output_type": "stream",
          "text": [
            "RMSE on test data is : 53.1841\n"
          ]
        }
      ],
      "source": [
        "print('RMSE on test data is :',\n",
        "    round(math.sqrt((abs(pred['Estimated_price']\n",
        "                    -data_test['Price'])**2).sum()/len(l)),4))"
      ]
    },
    {
      "cell_type": "markdown",
      "metadata": {
        "id": "zPESvkkSgxzC"
      },
      "source": [
        "RMSE of this model on test data set is 53.18"
      ]
    },
    {
      "cell_type": "markdown",
      "metadata": {
        "id": "QfG9-RsTgxzD"
      },
      "source": [
        "# Procedure 2\n",
        "Here we will first fit appropriate ARMA model on $residual^2$,from which we will predict residuals and modified return and price.\n"
      ]
    },
    {
      "cell_type": "code",
      "execution_count": null,
      "metadata": {
        "id": "JlPn4WyogxzD"
      },
      "outputs": [],
      "source": [
        "residuals = pd.DataFrame(model_arima.resid)"
      ]
    },
    {
      "cell_type": "code",
      "execution_count": null,
      "metadata": {
        "id": "OZcc890kgxzI"
      },
      "outputs": [],
      "source": [
        "sq_residuals=residuals**2"
      ]
    },
    {
      "cell_type": "markdown",
      "metadata": {
        "id": "Pae_DpdggxzI"
      },
      "source": [
        "Now to test stationarity of $residual^2$"
      ]
    },
    {
      "cell_type": "code",
      "execution_count": null,
      "metadata": {
        "id": "7kQ1qM0fgxzJ",
        "outputId": "0da2c579-6327-472e-bbce-39c644219b65"
      },
      "outputs": [
        {
          "name": "stdout",
          "output_type": "stream",
          "text": [
            "ADF Statistic: -5.431896600094837\n",
            "p-value: 2.9020411653651322e-06\n",
            "Critial Values:\n",
            "   1%, -3.43577938005948\n",
            "Critial Values:\n",
            "   5%, -2.863937543790164\n",
            "Critial Values:\n",
            "   10%, -2.568046493171221\n"
          ]
        }
      ],
      "source": [
        "result = adfuller(sq_residuals, autolag='AIC')\n",
        "print(f'ADF Statistic: {result[0]}')\n",
        "print(f'p-value: {result[1]}')\n",
        "for key, value in result[4].items():\n",
        "    print('Critial Values:')\n",
        "    print(f'   {key}, {value}')"
      ]
    },
    {
      "cell_type": "code",
      "execution_count": null,
      "metadata": {
        "id": "YmhosR1OgxzJ",
        "outputId": "d5658c87-f933-4e72-c078-2ce7ea109342"
      },
      "outputs": [
        {
          "name": "stdout",
          "output_type": "stream",
          "text": [
            "stat : -34.6765\n",
            "pvalue :0.0000\n"
          ]
        }
      ],
      "source": [
        "pp=at.PhillipsPerron(sq_residuals)\n",
        "print(\"stat : {0:0.4f}\".format(pp.stat))\n",
        "print(\"pvalue :{0:0.4f}\".format(pp.pvalue))"
      ]
    },
    {
      "cell_type": "markdown",
      "metadata": {
        "id": "Ye7Y3-S_gxzJ"
      },
      "source": [
        "From the above PP and ADF test,we can see that $residual^2$ is stationary.Now we will try to find appropriate p and q to fit ARMA on $residual^2$."
      ]
    },
    {
      "cell_type": "code",
      "execution_count": null,
      "metadata": {
        "id": "jOnc2oTzgxzJ",
        "outputId": "8a6bf647-96da-44d9-8cc2-95bf9beda9df"
      },
      "outputs": [
        {
          "data": {
            "image/png": "[encoded data removed]",
            "text/plain": [
              "<Figure size 864x576 with 2 Axes>"
            ]
          },
          "metadata": {
            "needs_background": "light"
          },
          "output_type": "display_data"
        }
      ],
      "source": [
        "fig = plt.figure(figsize=(12,8))\n",
        "ax1 = fig.add_subplot(211)\n",
        "fig = sm.graphics.tsa.plot_acf(sq_residuals,lags=40,ax=ax1)\n",
        "ax2 = fig.add_subplot(212)\n",
        "fig = sm.graphics.tsa.plot_pacf(sq_residuals,lags=40,ax=ax2)"
      ]
    },
    {
      "cell_type": "markdown",
      "metadata": {
        "id": "yFlikhh_gxzJ"
      },
      "source": [
        "From auto correlation and partial autocorrelation plot, we can guess that p and q will be around 2.So, we will check AIC and BIC for few models with diffrent p and q in between 0 and 3"
      ]
    },
    {
      "cell_type": "code",
      "execution_count": null,
      "metadata": {
        "id": "P_ifvzpegxzK",
        "outputId": "d003a3c0-8ca2-45d9-e68f-403fe1cb9367"
      },
      "outputs": [
        {
          "name": "stdout",
          "output_type": "stream",
          "text": [
            "p= 0 q= 0   aic -10096.32   bic -10086.09\n",
            "p= 0 q= 1   aic -10122.51   bic -10107.17\n",
            "p= 0 q= 2   aic -10151.32   bic -10130.87\n",
            "p= 0 q= 3   aic -10159.81   bic -10134.25\n",
            "p= 1 q= 0   aic -10132.12   bic -10116.78\n",
            "p= 1 q= 1   aic -10189.72   bic -10169.28\n",
            "p= 1 q= 2   aic -10186.59   bic -10161.03\n",
            "p= 1 q= 3   aic -10184.1   bic -10153.43\n",
            "p= 2 q= 0   aic -10166.58   bic -10146.13\n",
            "p= 2 q= 1   aic -10184.96   bic -10159.39\n",
            "p= 2 q= 2   aic -10185.62   bic -10154.95\n",
            "p= 2 q= 3   aic -10182.2   bic -10146.42\n",
            "p= 3 q= 0   aic -10175.56   bic -10150.0\n",
            "p= 3 q= 1   aic -10172.96   bic -10142.28\n",
            "p= 3 q= 2   aic -9688.12   bic -9652.34\n",
            "p= 3 q= 3   aic -10184.53   bic -10143.63\n"
          ]
        }
      ],
      "source": [
        "for i in range(4):\n",
        "    for j in range(4):\n",
        "        model=ARIMA(sq_residuals[0],order=(i,0,j))\n",
        "        model=model.fit()\n",
        "        print('p=',i,'q=',j,'  aic',round(model.aic,2), '  bic', round(model.bic,2))"
      ]
    },
    {
      "cell_type": "markdown",
      "metadata": {
        "id": "7OdQuOwHgxzK"
      },
      "source": [
        "From above AIC and BIC table,we can find out that p=q=1 can be a good option to go."
      ]
    },
    {
      "cell_type": "code",
      "execution_count": null,
      "metadata": {
        "id": "aTxHkQdugxzK",
        "outputId": "c1422476-e145-4a0e-bd3a-9e7a975c2034"
      },
      "outputs": [
        {
          "name": "stdout",
          "output_type": "stream",
          "text": [
            "                               SARIMAX Results                                \n",
            "==============================================================================\n",
            "Dep. Variable:                      y   No. Observations:                 1227\n",
            "Model:                 ARIMA(1, 0, 1)   Log Likelihood                5098.862\n",
            "Date:                Sun, 28 Nov 2021   AIC                         -10189.725\n",
            "Time:                        18:41:17   BIC                         -10169.276\n",
            "Sample:                             0   HQIC                        -10182.030\n",
            "                               - 1227                                         \n",
            "Covariance Type:                  opg                                         \n",
            "==============================================================================\n",
            "                 coef    std err          z      P>|z|      [0.025      0.975]\n",
            "------------------------------------------------------------------------------\n",
            "const          0.0014      0.000      2.953      0.003       0.000       0.002\n",
            "ar.L1          0.9110      0.018     49.655      0.000       0.875       0.947\n",
            "ma.L1         -0.7828      0.025    -31.726      0.000      -0.831      -0.734\n",
            "sigma2      1.435e-05   1.75e-07     82.218      0.000     1.4e-05    1.47e-05\n",
            "===================================================================================\n",
            "Ljung-Box (L1) (Q):                   0.31   Jarque-Bera (JB):            188531.96\n",
            "Prob(Q):                              0.58   Prob(JB):                         0.00\n",
            "Heteroskedasticity (H):               5.76   Skew:                             6.28\n",
            "Prob(H) (two-sided):                  0.00   Kurtosis:                        62.41\n",
            "===================================================================================\n",
            "\n",
            "Warnings:\n",
            "[1] Covariance matrix calculated using the outer product of gradients (complex-step).\n"
          ]
        }
      ],
      "source": [
        "model_resu=ARIMA(sq_residuals[0],order=(1,0,1))\n",
        "model_resu=model_resu.fit()\n",
        "print(model_resu.summary())\n",
        "start=len(data1)\n",
        "end=len(data1)+len(data_test)-1\n",
        "pred=model_resu.predict(start=start,end=end,typ='levels').rename('Square_Residual')\n",
        "Sq_resu_pred=pd.DataFrame(pred)\n"
      ]
    },
    {
      "cell_type": "markdown",
      "metadata": {
        "id": "SAcj6YM4gxzK"
      },
      "source": [
        "Each coefficients are significant for this model.Now we will predict next 7 days $residual^2$ and will calculate next 7 days $residual$ by below mentioned formula\n",
        "$$residual_t=sign(a_t)\\sqrt(residual_t^2)$$ where $a_t$ comes from N(0,1)"
      ]
    },
    {
      "cell_type": "code",
      "execution_count": null,
      "metadata": {
        "id": "B2Jax1MkgxzK"
      },
      "outputs": [],
      "source": [
        "from random import gauss\n",
        "series=[]\n",
        "for i in range(len(Sq_resu_pred)):\n",
        "    x=gauss(0,1/2)\n",
        "    x=x/abs(x)\n",
        "    series.append(x)\n"
      ]
    },
    {
      "cell_type": "code",
      "execution_count": null,
      "metadata": {
        "id": "gQwHLJCQgxzL"
      },
      "outputs": [],
      "source": [
        "resu_pred=Sq_resu_pred**.5"
      ]
    },
    {
      "cell_type": "code",
      "execution_count": null,
      "metadata": {
        "id": "eAA1Rum7gxzL"
      },
      "outputs": [],
      "source": [
        "series=pd.DataFrame(series)"
      ]
    },
    {
      "cell_type": "code",
      "execution_count": null,
      "metadata": {
        "id": "TmbTyx14gxzL"
      },
      "outputs": [],
      "source": [
        "residual=pd.DataFrame(resu_pred.values*series.values, columns=resu_pred.columns, index=resu_pred.index)"
      ]
    },
    {
      "cell_type": "code",
      "execution_count": null,
      "metadata": {
        "id": "tkIpMFevgxzL"
      },
      "outputs": [],
      "source": [
        "residuals=residual.copy()\n",
        "residuals.columns=['Residual']\n",
        "residuals.index=data_test.index"
      ]
    },
    {
      "cell_type": "code",
      "execution_count": null,
      "metadata": {
        "id": "j_Tf92zagxzL",
        "outputId": "61813c18-7c96-430c-d64d-ba803986b221"
      },
      "outputs": [
        {
          "data": {
            "text/html": [
              "<div>\n",
              "<style scoped>\n",
              "    .dataframe tbody tr th:only-of-type {\n",
              "        vertical-align: middle;\n",
              "    }\n",
              "\n",
              "    .dataframe tbody tr th {\n",
              "        vertical-align: top;\n",
              "    }\n",
              "\n",
              "    .dataframe thead th {\n",
              "        text-align: right;\n",
              "    }\n",
              "</style>\n",
              "<table border=\"1\" class=\"dataframe\">\n",
              "  <thead>\n",
              "    <tr style=\"text-align: right;\">\n",
              "      <th></th>\n",
              "      <th>Residual</th>\n",
              "    </tr>\n",
              "    <tr>\n",
              "      <th>Date</th>\n",
              "      <th></th>\n",
              "    </tr>\n",
              "  </thead>\n",
              "  <tbody>\n",
              "    <tr>\n",
              "      <th>2021-11-17</th>\n",
              "      <td>0.042801</td>\n",
              "    </tr>\n",
              "    <tr>\n",
              "      <th>2021-11-18</th>\n",
              "      <td>0.042390</td>\n",
              "    </tr>\n",
              "    <tr>\n",
              "      <th>2021-11-19</th>\n",
              "      <td>-0.042012</td>\n",
              "    </tr>\n",
              "    <tr>\n",
              "      <th>2021-11-22</th>\n",
              "      <td>0.041665</td>\n",
              "    </tr>\n",
              "    <tr>\n",
              "      <th>2021-11-23</th>\n",
              "      <td>-0.041346</td>\n",
              "    </tr>\n",
              "    <tr>\n",
              "      <th>2021-11-24</th>\n",
              "      <td>-0.041053</td>\n",
              "    </tr>\n",
              "    <tr>\n",
              "      <th>2021-11-26</th>\n",
              "      <td>0.040785</td>\n",
              "    </tr>\n",
              "  </tbody>\n",
              "</table>\n",
              "</div>"
            ],
            "text/plain": [
              "            Residual\n",
              "Date                \n",
              "2021-11-17  0.042801\n",
              "2021-11-18  0.042390\n",
              "2021-11-19 -0.042012\n",
              "2021-11-22  0.041665\n",
              "2021-11-23 -0.041346\n",
              "2021-11-24 -0.041053\n",
              "2021-11-26  0.040785"
            ]
          },
          "execution_count": 168,
          "metadata": {},
          "output_type": "execute_result"
        }
      ],
      "source": [
        "residuals"
      ]
    },
    {
      "cell_type": "markdown",
      "metadata": {
        "id": "laHycwyUgxzM"
      },
      "source": [
        "Above data set shows predicted residuals for next 7 days.Our new modified predicted retrun $r_t^{modi}=r_t + residual_t$, where $r_t$ is predicted return from ARMA and from $r_t^{modi}$ we will get modified predicted price $y_t^{modi}$ also.\n",
        "\n",
        "Now we will plot predicted modified prices with true prices below "
      ]
    },
    {
      "cell_type": "code",
      "execution_count": null,
      "metadata": {
        "id": "1fAf_vw1gxzM",
        "outputId": "8fb2c359-f187-48ee-c693-565140aaa9c5"
      },
      "outputs": [
        {
          "data": {
            "image/png": "[encoded data removed]",
            "text/plain": [
              "<Figure size 1440x432 with 1 Axes>"
            ]
          },
          "metadata": {
            "needs_background": "light"
          },
          "output_type": "display_data"
        }
      ],
      "source": [
        "pred=model_arima.predict(start=start,end=end,typ='levels').rename('ARIMA Predictions')\n",
        "l=[]\n",
        "pred=pd.DataFrame(pred)\n",
        "residual.index=pred.index\n",
        "pred['modiARIMA']=pred['ARIMA Predictions']+residual['Square_Residual']\n",
        "j=list(pred.index)[0]\n",
        "for i in pred.index:\n",
        "    if i ==j:\n",
        "        l.append(math.exp(pred.loc[i]['modiARIMA'])*data.loc[i-1]['Price'])\n",
        "    else:\n",
        "        l.append(math.exp(pred.loc[i]['modiARIMA'])*l[-1])\n",
        "pred['Modified Estimated_price']=l\n",
        "data_test.index=data_test['Date']\n",
        "plt.figure(figsize=(20,6))\n",
        "pred.index=data_test['Date']\n",
        "pred['Modified Estimated_price'].plot(legend=True)\n",
        "data_test['Price'].plot(legend=True)\n",
        "plt.xlabel('Date',fontsize=15)\n",
        "plt.ylabel('Price',fontsize=15)\n",
        "plt.title('Procedure 2 price prediction',fontsize=20)\n",
        "plt.show()"
      ]
    },
    {
      "cell_type": "code",
      "execution_count": null,
      "metadata": {
        "id": "1bFPCRNwgxzM",
        "outputId": "a74eefef-495b-4822-e332-878b6bc1a095"
      },
      "outputs": [
        {
          "name": "stdout",
          "output_type": "stream",
          "text": [
            "RMSE on test data is : 33.2348\n"
          ]
        }
      ],
      "source": [
        "print('RMSE on test data is :',\n",
        "    round(math.sqrt((abs(pred['Modified Estimated Price']\n",
        "                    -data_test['Price'])**2).sum()/len(l)),4))"
      ]
    },
    {
      "cell_type": "markdown",
      "metadata": {
        "id": "7yXpIstrgxzM"
      },
      "source": [
        "RMSE for the procedure 2 is 33.23 on test data"
      ]
    },
    {
      "cell_type": "markdown",
      "metadata": {
        "id": "3QlOskyOgxzM"
      },
      "source": [
        "# Predictions of Stock Prices using both Procedures"
      ]
    },
    {
      "cell_type": "code",
      "execution_count": null,
      "metadata": {
        "id": "77-AdoZPgxzN",
        "outputId": "bdd45dcc-7f21-4414-8787-e6024003d303"
      },
      "outputs": [
        {
          "data": {
            "image/png": "[encoded data removed]",
            "text/plain": [
              "<Figure size 1296x432 with 1 Axes>"
            ]
          },
          "metadata": {
            "needs_background": "light"
          },
          "output_type": "display_data"
        }
      ],
      "source": [
        "pred=model_arima.predict(start=start,end=end,typ='levels').rename('ARIMA Predictions')\n",
        "pred=pd.DataFrame(pred)\n",
        "prediction.index=pred.index\n",
        "pred['vol-']=pred['ARIMA Predictions']-prediction\n",
        "pred['vol+']=pred['ARIMA Predictions']+prediction\n",
        "pred['modiARIMA']=pred['ARIMA Predictions']+residual['Square_Residual']\n",
        "l=[]\n",
        "l1=[]\n",
        "l2=[]\n",
        "l3=[]\n",
        "j=list(pred.index)[0]\n",
        "for i in pred.index:\n",
        "    if i ==j:\n",
        "        l.append(math.exp(pred.loc[i]['ARIMA Predictions'])*data.loc[i-1]['Price'])\n",
        "        l1.append(math.exp(pred.loc[i]['vol-'])*data.loc[i-1]['Price'])\n",
        "        l2.append(math.exp(pred.loc[i]['vol+'])*data.loc[i-1]['Price'])\n",
        "        l3.append(math.exp(pred.loc[i]['modiARIMA'])*data.loc[i-1]['Price'])\n",
        "    else:\n",
        "        l.append(math.exp(pred.loc[i]['ARIMA Predictions'])*l[-1])\n",
        "        l1.append(math.exp(pred.loc[i]['vol-'])*l1[-1])\n",
        "        l2.append(math.exp(pred.loc[i]['vol+'])*l2[-1])\n",
        "        l3.append(math.exp(pred.loc[i]['modiARIMA'])*l3[-1])\n",
        "pred['Estimated_price(ARMA)']=l\n",
        "pred['Estimated_price_vol+']=l2\n",
        "pred['Estimated_price_vol-']=l1\n",
        "pred['Modified Estimated Price']=l3\n",
        "data_test.index=data_test['Date']\n",
        "pred.index=data_test['Date']\n",
        "plt.figure(figsize=(18,6))\n",
        "pred['Modified Estimated Price'].plot(legend=True)\n",
        "pred['Estimated_price(ARMA)'].plot(legend=True)\n",
        "data_test['Price'].plot(legend=True)\n",
        "\n",
        "plt.fill_between(pred.index, pred['Estimated_price_vol-'],\n",
        "                 pred['Estimated_price_vol+'], color='red', alpha=.3)\n",
        "plt.xlabel('Date',fontsize=15)\n",
        "plt.ylabel('Price',fontsize=15)\n",
        "plt.title('Stock Price Prediction using both procedure',fontsize=20)\n",
        "plt.show()"
      ]
    }
  ],
  "metadata": {
    "kernelspec": {
      "display_name": "Python 3",
      "language": "python",
      "name": "python3"
    },
    "language_info": {
      "codemirror_mode": {
        "name": "ipython",
        "version": 3
      },
      "file_extension": ".py",
      "mimetype": "text/x-python",
      "name": "python",
      "nbconvert_exporter": "python",
      "pygments_lexer": "ipython3",
      "version": "3.8.5"
    },
    "colab": {
      "name": "time_series.ipynb",
      "provenance": [],
      "toc_visible": true,
      "include_colab_link": true
    }
  },
  "nbformat": 4,
  "nbformat_minor": 0
}